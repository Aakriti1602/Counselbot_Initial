{
  "nbformat": 4,
  "nbformat_minor": 0,
  "metadata": {
    "colab": {
      "name": "Untitled",
      "provenance": [],
      "collapsed_sections": []
    },
    "kernelspec": {
      "name": "python3",
      "display_name": "Python 3"
    }
  },
  "cells": [
    {
      "cell_type": "code",
      "metadata": {
        "id": "fbHKjM1flAlC"
      },
      "source": [
        "import numpy as np\n",
        "import pandas as pd \n",
        "import matplotlib.pyplot as plt\n",
        "from pathlib import Path\n",
        "import string\n",
        "import re\n",
        "import joblib\n",
        "import json\n",
        "from collections import Counter\n",
        "import nltk\n",
        "from nltk.corpus import stopwords\n",
        "from nltk.stem import WordNetLemmatizer\n",
        "from tensorflow.keras.preprocessing.text import Tokenizer\n",
        "from tensorflow.keras.preprocessing.sequence import pad_sequences\n",
        "from tensorflow.keras.utils import plot_model\n",
        "from tensorflow.keras.models import Sequential\n",
        "from tensorflow.keras.layers import Embedding, Dense, Flatten\n",
        "from tensorflow.keras.layers import Conv1D\n",
        "from tensorflow.keras.layers import MaxPooling1D\n",
        "from tensorflow.keras.callbacks import ModelCheckpoint, EarlyStopping, ReduceLROnPlateau"
      ],
      "execution_count": null,
      "outputs": []
    },
    {
      "cell_type": "code",
      "metadata": {
        "id": "mJvzSLnTn8zc",
        "outputId": "c808cbd0-9379-4b14-c20b-a2a7351e0af0",
        "colab": {
          "base_uri": "https://localhost:8080/",
          "height": 67
        }
      },
      "source": [
        "nltk.download('wordnet')"
      ],
      "execution_count": null,
      "outputs": [
        {
          "output_type": "stream",
          "text": [
            "[nltk_data] Downloading package wordnet to /root/nltk_data...\n",
            "[nltk_data]   Unzipping corpora/wordnet.zip.\n"
          ],
          "name": "stdout"
        },
        {
          "output_type": "execute_result",
          "data": {
            "text/plain": [
              "True"
            ]
          },
          "metadata": {
            "tags": []
          },
          "execution_count": 2
        }
      ]
    },
    {
      "cell_type": "code",
      "metadata": {
        "id": "rW0Z4HOfAMEU"
      },
      "source": [
        "!rm questions.json"
      ],
      "execution_count": null,
      "outputs": []
    },
    {
      "cell_type": "code",
      "metadata": {
        "id": "Or9VL7htImUN",
        "outputId": "70a6f9e2-e1a1-4cb9-eeec-3b53f20d1731",
        "colab": {
          "resources": {
            "http://localhost:8080/nbextensions/google.colab/files.js": {
              "data": "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",
              "ok": true,
              "headers": [
                [
                  "content-type",
                  "application/javascript"
                ]
              ],
              "status": 200,
              "status_text": ""
            }
          },
          "base_uri": "https://localhost:8080/",
          "height": 73
        }
      },
      "source": [
        "from google.colab import files\n",
        "uploaded = files.upload()"
      ],
      "execution_count": null,
      "outputs": [
        {
          "output_type": "display_data",
          "data": {
            "text/html": [
              "\n",
              "     <input type=\"file\" id=\"files-3d5f2218-5afc-4366-9349-280fb1f16455\" name=\"files[]\" multiple disabled\n",
              "        style=\"border:none\" />\n",
              "     <output id=\"result-3d5f2218-5afc-4366-9349-280fb1f16455\">\n",
              "      Upload widget is only available when the cell has been executed in the\n",
              "      current browser session. Please rerun this cell to enable.\n",
              "      </output>\n",
              "      <script src=\"/nbextensions/google.colab/files.js\"></script> "
            ],
            "text/plain": [
              "<IPython.core.display.HTML object>"
            ]
          },
          "metadata": {
            "tags": []
          }
        },
        {
          "output_type": "stream",
          "text": [
            "Saving questions.json to questions.json\n"
          ],
          "name": "stdout"
        }
      ]
    },
    {
      "cell_type": "code",
      "metadata": {
        "id": "jFbADEodLSMW",
        "outputId": "a22c5ad5-6172-4ca3-f58c-2ec638ad2106",
        "colab": {
          "base_uri": "https://localhost:8080/",
          "height": 34
        }
      },
      "source": [
        "!ls"
      ],
      "execution_count": null,
      "outputs": [
        {
          "output_type": "stream",
          "text": [
            "questions.json\tsample_data\n"
          ],
          "name": "stdout"
        }
      ]
    },
    {
      "cell_type": "code",
      "metadata": {
        "id": "6DzYHNazmF8r"
      },
      "source": [
        "f = open ('questions.json', \"r\")\n",
        "ds = json.loads(f.read())\n",
        "def dff(c1,c2,bol):\n",
        "    df = pd.DataFrame(columns=[c1,c2])\n",
        "    for i in ds['questions']:\n",
        "        if bol=='user':\n",
        "            for p in i['patterns']:\n",
        "                x = p\n",
        "                df_app = pd.Series([x,i['tag']], index = df.columns)\n",
        "                df = df.append(df_app,ignore_index=True)\n",
        "        else:\n",
        "            for r in i['responses']:\n",
        "                x = r\n",
        "                df_app = pd.Series([x,i['tag']], index = df.columns)\n",
        "                df = df.append(df_app,ignore_index=True)\n",
        "    return df"
      ],
      "execution_count": null,
      "outputs": []
    },
    {
      "cell_type": "code",
      "metadata": {
        "id": "IixhRvivRnQj",
        "outputId": "25195d34-3ead-4f51-8e5c-feaeda442035",
        "colab": {
          "base_uri": "https://localhost:8080/",
          "height": 402
        }
      },
      "source": [
        "df1 = dff('user','labels','user')\n",
        "df1"
      ],
      "execution_count": null,
      "outputs": [
        {
          "output_type": "execute_result",
          "data": {
            "text/html": [
              "<div>\n",
              "<style scoped>\n",
              "    .dataframe tbody tr th:only-of-type {\n",
              "        vertical-align: middle;\n",
              "    }\n",
              "\n",
              "    .dataframe tbody tr th {\n",
              "        vertical-align: top;\n",
              "    }\n",
              "\n",
              "    .dataframe thead th {\n",
              "        text-align: right;\n",
              "    }\n",
              "</style>\n",
              "<table border=\"1\" class=\"dataframe\">\n",
              "  <thead>\n",
              "    <tr style=\"text-align: right;\">\n",
              "      <th></th>\n",
              "      <th>user</th>\n",
              "      <th>labels</th>\n",
              "    </tr>\n",
              "  </thead>\n",
              "  <tbody>\n",
              "    <tr>\n",
              "      <th>0</th>\n",
              "      <td>Hi there</td>\n",
              "      <td>start_conversation</td>\n",
              "    </tr>\n",
              "    <tr>\n",
              "      <th>1</th>\n",
              "      <td>Is anyone there?</td>\n",
              "      <td>start_conversation</td>\n",
              "    </tr>\n",
              "    <tr>\n",
              "      <th>2</th>\n",
              "      <td>Hey</td>\n",
              "      <td>start_conversation</td>\n",
              "    </tr>\n",
              "    <tr>\n",
              "      <th>3</th>\n",
              "      <td>Hola</td>\n",
              "      <td>start_conversation</td>\n",
              "    </tr>\n",
              "    <tr>\n",
              "      <th>4</th>\n",
              "      <td>Hello</td>\n",
              "      <td>start_conversation</td>\n",
              "    </tr>\n",
              "    <tr>\n",
              "      <th>...</th>\n",
              "      <td>...</td>\n",
              "      <td>...</td>\n",
              "    </tr>\n",
              "    <tr>\n",
              "      <th>79</th>\n",
              "      <td>What's the test format?</td>\n",
              "      <td>format</td>\n",
              "    </tr>\n",
              "    <tr>\n",
              "      <th>80</th>\n",
              "      <td>Do we just keep answering till we get tired?</td>\n",
              "      <td>format</td>\n",
              "    </tr>\n",
              "    <tr>\n",
              "      <th>81</th>\n",
              "      <td>How many questions are there in the test?</td>\n",
              "      <td>format</td>\n",
              "    </tr>\n",
              "    <tr>\n",
              "      <th>82</th>\n",
              "      <td>When do we attend the test?</td>\n",
              "      <td>format</td>\n",
              "    </tr>\n",
              "    <tr>\n",
              "      <th>83</th>\n",
              "      <td>How many tests can be taken?</td>\n",
              "      <td>format</td>\n",
              "    </tr>\n",
              "  </tbody>\n",
              "</table>\n",
              "<p>84 rows × 2 columns</p>\n",
              "</div>"
            ],
            "text/plain": [
              "                                            user              labels\n",
              "0                                       Hi there  start_conversation\n",
              "1                               Is anyone there?  start_conversation\n",
              "2                                            Hey  start_conversation\n",
              "3                                           Hola  start_conversation\n",
              "4                                          Hello  start_conversation\n",
              "..                                           ...                 ...\n",
              "79                       What's the test format?              format\n",
              "80  Do we just keep answering till we get tired?              format\n",
              "81     How many questions are there in the test?              format\n",
              "82                   When do we attend the test?              format\n",
              "83                  How many tests can be taken?              format\n",
              "\n",
              "[84 rows x 2 columns]"
            ]
          },
          "metadata": {
            "tags": []
          },
          "execution_count": 146
        }
      ]
    },
    {
      "cell_type": "code",
      "metadata": {
        "id": "6DWPNh8UmwWT",
        "outputId": "160adf9b-13ca-472c-e9bb-35574fdf8067",
        "colab": {
          "base_uri": "https://localhost:8080/",
          "height": 1000
        }
      },
      "source": [
        "df2 = dff('bot','labels','bot')\n",
        "df2"
      ],
      "execution_count": null,
      "outputs": [
        {
          "output_type": "execute_result",
          "data": {
            "text/html": [
              "<div>\n",
              "<style scoped>\n",
              "    .dataframe tbody tr th:only-of-type {\n",
              "        vertical-align: middle;\n",
              "    }\n",
              "\n",
              "    .dataframe tbody tr th {\n",
              "        vertical-align: top;\n",
              "    }\n",
              "\n",
              "    .dataframe thead th {\n",
              "        text-align: right;\n",
              "    }\n",
              "</style>\n",
              "<table border=\"1\" class=\"dataframe\">\n",
              "  <thead>\n",
              "    <tr style=\"text-align: right;\">\n",
              "      <th></th>\n",
              "      <th>bot</th>\n",
              "      <th>labels</th>\n",
              "    </tr>\n",
              "  </thead>\n",
              "  <tbody>\n",
              "    <tr>\n",
              "      <th>0</th>\n",
              "      <td>Hello, nice to meet you</td>\n",
              "      <td>start_conversation</td>\n",
              "    </tr>\n",
              "    <tr>\n",
              "      <th>1</th>\n",
              "      <td>Happy to have you here</td>\n",
              "      <td>start_conversation</td>\n",
              "    </tr>\n",
              "    <tr>\n",
              "      <th>2</th>\n",
              "      <td>Good to see you again</td>\n",
              "      <td>start_conversation</td>\n",
              "    </tr>\n",
              "    <tr>\n",
              "      <th>3</th>\n",
              "      <td>Hi there, how can I help?</td>\n",
              "      <td>start_conversation</td>\n",
              "    </tr>\n",
              "    <tr>\n",
              "      <th>4</th>\n",
              "      <td>Hi, I'm  your CounselBot</td>\n",
              "      <td>what_are_you</td>\n",
              "    </tr>\n",
              "    <tr>\n",
              "      <th>5</th>\n",
              "      <td>I'm CounselBot</td>\n",
              "      <td>what_are_you</td>\n",
              "    </tr>\n",
              "    <tr>\n",
              "      <th>6</th>\n",
              "      <td>Call me CounselBot</td>\n",
              "      <td>what_are_you</td>\n",
              "    </tr>\n",
              "    <tr>\n",
              "      <th>7</th>\n",
              "      <td>Have a lovely time!</td>\n",
              "      <td>end_conversation</td>\n",
              "    </tr>\n",
              "    <tr>\n",
              "      <th>8</th>\n",
              "      <td>Have a wonderful day</td>\n",
              "      <td>end_conversation</td>\n",
              "    </tr>\n",
              "    <tr>\n",
              "      <th>9</th>\n",
              "      <td>Suite yourself</td>\n",
              "      <td>end_conversation</td>\n",
              "    </tr>\n",
              "    <tr>\n",
              "      <th>10</th>\n",
              "      <td>Have fun!</td>\n",
              "      <td>end_conversation</td>\n",
              "    </tr>\n",
              "    <tr>\n",
              "      <th>11</th>\n",
              "      <td>Happy to help!</td>\n",
              "      <td>thanks</td>\n",
              "    </tr>\n",
              "    <tr>\n",
              "      <th>12</th>\n",
              "      <td>Any time!</td>\n",
              "      <td>thanks</td>\n",
              "    </tr>\n",
              "    <tr>\n",
              "      <th>13</th>\n",
              "      <td>My pleasure</td>\n",
              "      <td>thanks</td>\n",
              "    </tr>\n",
              "    <tr>\n",
              "      <th>14</th>\n",
              "      <td>Do enjoy the game</td>\n",
              "      <td>thanks</td>\n",
              "    </tr>\n",
              "    <tr>\n",
              "      <th>15</th>\n",
              "      <td>Have fun on tennis court</td>\n",
              "      <td>thanks</td>\n",
              "    </tr>\n",
              "    <tr>\n",
              "      <th>16</th>\n",
              "      <td>Sorry, kindly rephrase the question</td>\n",
              "      <td>confused</td>\n",
              "    </tr>\n",
              "    <tr>\n",
              "      <th>17</th>\n",
              "      <td>Sorry, can't understand you</td>\n",
              "      <td>confused</td>\n",
              "    </tr>\n",
              "    <tr>\n",
              "      <th>18</th>\n",
              "      <td>Please give me more information</td>\n",
              "      <td>confused</td>\n",
              "    </tr>\n",
              "    <tr>\n",
              "      <th>19</th>\n",
              "      <td>Not sure I understand</td>\n",
              "      <td>confused</td>\n",
              "    </tr>\n",
              "    <tr>\n",
              "      <th>20</th>\n",
              "      <td>I can guide you through how to get started wit...</td>\n",
              "      <td>options</td>\n",
              "    </tr>\n",
              "    <tr>\n",
              "      <th>21</th>\n",
              "      <td>I know quiet some things about career selectio...</td>\n",
              "      <td>bot_scope</td>\n",
              "    </tr>\n",
              "    <tr>\n",
              "      <th>22</th>\n",
              "      <td>I know some of the most selected fields like s...</td>\n",
              "      <td>bot_scope</td>\n",
              "    </tr>\n",
              "    <tr>\n",
              "      <th>23</th>\n",
              "      <td>Ask me a question about career choices and I w...</td>\n",
              "      <td>bot_scope</td>\n",
              "    </tr>\n",
              "    <tr>\n",
              "      <th>24</th>\n",
              "      <td>As of January 2020, the top career paths are S...</td>\n",
              "      <td>top_choices</td>\n",
              "    </tr>\n",
              "    <tr>\n",
              "      <th>25</th>\n",
              "      <td>The general sub streams in science are biology...</td>\n",
              "      <td>Science</td>\n",
              "    </tr>\n",
              "    <tr>\n",
              "      <th>26</th>\n",
              "      <td>The general sub streams in arts are visual com...</td>\n",
              "      <td>arts</td>\n",
              "    </tr>\n",
              "    <tr>\n",
              "      <th>27</th>\n",
              "      <td>The general sub streams in commerce are accoun...</td>\n",
              "      <td>commerce</td>\n",
              "    </tr>\n",
              "    <tr>\n",
              "      <th>28</th>\n",
              "      <td>The job oppurtunities in civil services are IA...</td>\n",
              "      <td>civil</td>\n",
              "    </tr>\n",
              "    <tr>\n",
              "      <th>29</th>\n",
              "      <td>The branches in engineering are computer scien...</td>\n",
              "      <td>engineering</td>\n",
              "    </tr>\n",
              "    <tr>\n",
              "      <th>30</th>\n",
              "      <td>Your results will be displayed in a detailed m...</td>\n",
              "      <td>results</td>\n",
              "    </tr>\n",
              "    <tr>\n",
              "      <th>31</th>\n",
              "      <td>It's never too late to change your career if y...</td>\n",
              "      <td>choice</td>\n",
              "    </tr>\n",
              "    <tr>\n",
              "      <th>32</th>\n",
              "      <td>The results will be followed by contacts of a ...</td>\n",
              "      <td>guidance</td>\n",
              "    </tr>\n",
              "    <tr>\n",
              "      <th>33</th>\n",
              "      <td>The test comprises of forty multiple choice qu...</td>\n",
              "      <td>format</td>\n",
              "    </tr>\n",
              "  </tbody>\n",
              "</table>\n",
              "</div>"
            ],
            "text/plain": [
              "                                                  bot              labels\n",
              "0                             Hello, nice to meet you  start_conversation\n",
              "1                              Happy to have you here  start_conversation\n",
              "2                               Good to see you again  start_conversation\n",
              "3                           Hi there, how can I help?  start_conversation\n",
              "4                            Hi, I'm  your CounselBot        what_are_you\n",
              "5                                     I'm CounselBot         what_are_you\n",
              "6                                  Call me CounselBot        what_are_you\n",
              "7                                 Have a lovely time!    end_conversation\n",
              "8                                Have a wonderful day    end_conversation\n",
              "9                                      Suite yourself    end_conversation\n",
              "10                                          Have fun!    end_conversation\n",
              "11                                     Happy to help!              thanks\n",
              "12                                          Any time!              thanks\n",
              "13                                        My pleasure              thanks\n",
              "14                                  Do enjoy the game              thanks\n",
              "15                           Have fun on tennis court              thanks\n",
              "16                Sorry, kindly rephrase the question            confused\n",
              "17                        Sorry, can't understand you            confused\n",
              "18                    Please give me more information            confused\n",
              "19                              Not sure I understand            confused\n",
              "20  I can guide you through how to get started wit...             options\n",
              "21  I know quiet some things about career selectio...           bot_scope\n",
              "22  I know some of the most selected fields like s...           bot_scope\n",
              "23  Ask me a question about career choices and I w...           bot_scope\n",
              "24  As of January 2020, the top career paths are S...         top_choices\n",
              "25  The general sub streams in science are biology...             Science\n",
              "26  The general sub streams in arts are visual com...                arts\n",
              "27  The general sub streams in commerce are accoun...            commerce\n",
              "28  The job oppurtunities in civil services are IA...               civil\n",
              "29  The branches in engineering are computer scien...         engineering\n",
              "30  Your results will be displayed in a detailed m...             results\n",
              "31  It's never too late to change your career if y...              choice\n",
              "32  The results will be followed by contacts of a ...            guidance\n",
              "33  The test comprises of forty multiple choice qu...              format"
            ]
          },
          "metadata": {
            "tags": []
          },
          "execution_count": 147
        }
      ]
    },
    {
      "cell_type": "code",
      "metadata": {
        "id": "gx6qpo_qnh4H"
      },
      "source": [
        "lem = WordNetLemmatizer()\n",
        "words = Counter()\n",
        "labels = []\n",
        "def tokenizer(x):\n",
        "    tokens = x.split()\n",
        "    rep = re.compile('[%s]' % re.escape(string.punctuation))\n",
        "    tokens = [rep.sub('', i) for i in tokens]\n",
        "    tokens = [i for i in tokens if i.isalpha()]\n",
        "    tokens = [lem.lemmatize(i.lower()) for i in tokens]\n",
        "    tokens = [i.lower() for i in tokens if len(i) > 1]\n",
        "    return tokens\n",
        "\n",
        "def no_stopwords(tokenizer,df,c):\n",
        "    no_stop = []\n",
        "    for x in df[c]:\n",
        "        tokens = tokenizer(x)\n",
        "        joblib.dump(tokens,'tokens.pkl')\n",
        "        no_stop.append(' '.join(tokens))\n",
        "    df[c] = no_stop\n",
        "    return\n",
        "\n",
        "def new_words(tokenizer,df,c):\n",
        "    for x in df[c]:\n",
        "        tokens = tokenizer(x)   \n",
        "        words.update(tokens)\n",
        "    joblib.dump(words,'words.pkl')\n",
        "    return"
      ],
      "execution_count": null,
      "outputs": []
    },
    {
      "cell_type": "code",
      "metadata": {
        "id": "gzes7loznx6b"
      },
      "source": [
        "new_words(tokenizer,df1,'user')\n",
        "no_stopwords(tokenizer,df1,'user')"
      ],
      "execution_count": null,
      "outputs": []
    },
    {
      "cell_type": "code",
      "metadata": {
        "id": "0Jg4TiXKoCtO",
        "outputId": "b1e2dbd1-19c2-4e2f-cc9e-8be88d6b1819",
        "colab": {
          "base_uri": "https://localhost:8080/",
          "height": 286
        }
      },
      "source": [
        "test_list = list(df1.groupby(by='labels',as_index=False).first()['user'])\n",
        "test_list"
      ],
      "execution_count": null,
      "outputs": [
        {
          "output_type": "execute_result",
          "data": {
            "text/plain": [
              "['what are the general sub stream in science',\n",
              " 'what are the general sub stream in art',\n",
              " 'what are the job oppurtunities after school',\n",
              " 'what will happen if make the wrong choice',\n",
              " 'what are the job oppurtunities in civil service',\n",
              " 'what are the general sub stream in commerce',\n",
              " 'bye',\n",
              " 'what are the branch in engineering',\n",
              " 'whats the test format',\n",
              " 'can get further guidance after my result',\n",
              " 'how can you help me',\n",
              " 'what will my result look like',\n",
              " 'hi there',\n",
              " 'thanks',\n",
              " 'who are the top choice of every student',\n",
              " 'what is your name']"
            ]
          },
          "metadata": {
            "tags": []
          },
          "execution_count": 150
        }
      ]
    },
    {
      "cell_type": "code",
      "metadata": {
        "id": "x04BMNUcoJ5K",
        "outputId": "4844aa31-83ec-450e-bd86-93ff2b83d56c",
        "colab": {
          "base_uri": "https://localhost:8080/",
          "height": 34
        }
      },
      "source": [
        "test_index = []\n",
        "for i,_ in enumerate(test_list):\n",
        "    idx = df1[df1.user == test_list[i]].index[0]\n",
        "    test_index.append(idx)\n",
        "test_index"
      ],
      "execution_count": null,
      "outputs": [
        {
          "output_type": "execute_result",
          "data": {
            "text/plain": [
              "[40, 45, 29, 69, 55, 50, 11, 60, 79, 74, 21, 65, 0, 16, 34, 7]"
            ]
          },
          "metadata": {
            "tags": []
          },
          "execution_count": 151
        }
      ]
    },
    {
      "cell_type": "code",
      "metadata": {
        "id": "5vcQ7Ujepee9",
        "outputId": "4d6b4210-e6c1-436a-ac2b-c00e19faba9b",
        "colab": {
          "base_uri": "https://localhost:8080/",
          "height": 102
        }
      },
      "source": [
        "train_index = [i for i in df1.index if i not in test_index]\n",
        "' '.join(list(words.keys()))\n"
      ],
      "execution_count": null,
      "outputs": [
        {
          "output_type": "execute_result",
          "data": {
            "application/vnd.google.colaboratory.intrinsic+json": {
              "type": "string"
            },
            "text/plain": [
              "'hi there is anyone hey hola hello good day what your name are you who pls bye see later goodbye nice chatting to till next time thanks thank thats helpful awesome for helping me how can help do provide be support offered know about the job oppurtunities after school tell various career choice really lot exactly choosing right mean by guide through selection process top of every student list most commonly chosen path common general sub stream in science art commerce civil service branch engineering will my result look like when get give detail happen if make wrong youve made it too late realise decide have two conflicting rectify further guidance talk an expert more insight required whats test format we just keep answering tired many question attend taken'"
            ]
          },
          "metadata": {
            "tags": []
          },
          "execution_count": 152
        }
      ]
    },
    {
      "cell_type": "code",
      "metadata": {
        "id": "0tR0iF27pqcH"
      },
      "source": [
        "def encoder(df,c):\n",
        "    t = Tokenizer()\n",
        "    ent = [x for x in df[c]]\n",
        "    t.fit_on_texts(ent)\n",
        "    joblib.dump(t,'tokenizer_t.pkl')\n",
        "    wordlen = len(t.word_index) + 1\n",
        "    ent = [x for x in df[c]]\n",
        "    max_length = max([len(s.split()) for s in ent])\n",
        "    encoded = t.texts_to_sequences(ent)\n",
        "    padded = pad_sequences(encoded, maxlen=max_length, padding='post')\n",
        "    return padded, wordlen, max_length"
      ],
      "execution_count": null,
      "outputs": []
    },
    {
      "cell_type": "code",
      "metadata": {
        "id": "qWI8297ypv3Q"
      },
      "source": [
        "X,wordlen,max_length = encoder(df1,'user')\n"
      ],
      "execution_count": null,
      "outputs": []
    },
    {
      "cell_type": "code",
      "metadata": {
        "id": "bCkZGZKQp0Lz",
        "outputId": "5273162b-7d1d-4d9e-a7b9-c0ed4ece2de5",
        "colab": {
          "base_uri": "https://localhost:8080/",
          "height": 402
        }
      },
      "source": [
        "dfen = pd.DataFrame(X)\n",
        "dfen['labels'] = df1.labels\n",
        "dfen"
      ],
      "execution_count": null,
      "outputs": [
        {
          "output_type": "execute_result",
          "data": {
            "text/html": [
              "<div>\n",
              "<style scoped>\n",
              "    .dataframe tbody tr th:only-of-type {\n",
              "        vertical-align: middle;\n",
              "    }\n",
              "\n",
              "    .dataframe tbody tr th {\n",
              "        vertical-align: top;\n",
              "    }\n",
              "\n",
              "    .dataframe thead th {\n",
              "        text-align: right;\n",
              "    }\n",
              "</style>\n",
              "<table border=\"1\" class=\"dataframe\">\n",
              "  <thead>\n",
              "    <tr style=\"text-align: right;\">\n",
              "      <th></th>\n",
              "      <th>0</th>\n",
              "      <th>1</th>\n",
              "      <th>2</th>\n",
              "      <th>3</th>\n",
              "      <th>4</th>\n",
              "      <th>5</th>\n",
              "      <th>6</th>\n",
              "      <th>7</th>\n",
              "      <th>8</th>\n",
              "      <th>9</th>\n",
              "      <th>10</th>\n",
              "      <th>11</th>\n",
              "      <th>labels</th>\n",
              "    </tr>\n",
              "  </thead>\n",
              "  <tbody>\n",
              "    <tr>\n",
              "      <th>0</th>\n",
              "      <td>44</td>\n",
              "      <td>35</td>\n",
              "      <td>0</td>\n",
              "      <td>0</td>\n",
              "      <td>0</td>\n",
              "      <td>0</td>\n",
              "      <td>0</td>\n",
              "      <td>0</td>\n",
              "      <td>0</td>\n",
              "      <td>0</td>\n",
              "      <td>0</td>\n",
              "      <td>0</td>\n",
              "      <td>start_conversation</td>\n",
              "    </tr>\n",
              "    <tr>\n",
              "      <th>1</th>\n",
              "      <td>36</td>\n",
              "      <td>64</td>\n",
              "      <td>35</td>\n",
              "      <td>0</td>\n",
              "      <td>0</td>\n",
              "      <td>0</td>\n",
              "      <td>0</td>\n",
              "      <td>0</td>\n",
              "      <td>0</td>\n",
              "      <td>0</td>\n",
              "      <td>0</td>\n",
              "      <td>0</td>\n",
              "      <td>start_conversation</td>\n",
              "    </tr>\n",
              "    <tr>\n",
              "      <th>2</th>\n",
              "      <td>65</td>\n",
              "      <td>0</td>\n",
              "      <td>0</td>\n",
              "      <td>0</td>\n",
              "      <td>0</td>\n",
              "      <td>0</td>\n",
              "      <td>0</td>\n",
              "      <td>0</td>\n",
              "      <td>0</td>\n",
              "      <td>0</td>\n",
              "      <td>0</td>\n",
              "      <td>0</td>\n",
              "      <td>start_conversation</td>\n",
              "    </tr>\n",
              "    <tr>\n",
              "      <th>3</th>\n",
              "      <td>66</td>\n",
              "      <td>0</td>\n",
              "      <td>0</td>\n",
              "      <td>0</td>\n",
              "      <td>0</td>\n",
              "      <td>0</td>\n",
              "      <td>0</td>\n",
              "      <td>0</td>\n",
              "      <td>0</td>\n",
              "      <td>0</td>\n",
              "      <td>0</td>\n",
              "      <td>0</td>\n",
              "      <td>start_conversation</td>\n",
              "    </tr>\n",
              "    <tr>\n",
              "      <th>4</th>\n",
              "      <td>67</td>\n",
              "      <td>0</td>\n",
              "      <td>0</td>\n",
              "      <td>0</td>\n",
              "      <td>0</td>\n",
              "      <td>0</td>\n",
              "      <td>0</td>\n",
              "      <td>0</td>\n",
              "      <td>0</td>\n",
              "      <td>0</td>\n",
              "      <td>0</td>\n",
              "      <td>0</td>\n",
              "      <td>start_conversation</td>\n",
              "    </tr>\n",
              "    <tr>\n",
              "      <th>...</th>\n",
              "      <td>...</td>\n",
              "      <td>...</td>\n",
              "      <td>...</td>\n",
              "      <td>...</td>\n",
              "      <td>...</td>\n",
              "      <td>...</td>\n",
              "      <td>...</td>\n",
              "      <td>...</td>\n",
              "      <td>...</td>\n",
              "      <td>...</td>\n",
              "      <td>...</td>\n",
              "      <td>...</td>\n",
              "      <td>...</td>\n",
              "    </tr>\n",
              "    <tr>\n",
              "      <th>79</th>\n",
              "      <td>121</td>\n",
              "      <td>1</td>\n",
              "      <td>34</td>\n",
              "      <td>122</td>\n",
              "      <td>0</td>\n",
              "      <td>0</td>\n",
              "      <td>0</td>\n",
              "      <td>0</td>\n",
              "      <td>0</td>\n",
              "      <td>0</td>\n",
              "      <td>0</td>\n",
              "      <td>0</td>\n",
              "      <td>format</td>\n",
              "    </tr>\n",
              "    <tr>\n",
              "      <th>80</th>\n",
              "      <td>6</td>\n",
              "      <td>43</td>\n",
              "      <td>123</td>\n",
              "      <td>124</td>\n",
              "      <td>125</td>\n",
              "      <td>49</td>\n",
              "      <td>43</td>\n",
              "      <td>32</td>\n",
              "      <td>126</td>\n",
              "      <td>0</td>\n",
              "      <td>0</td>\n",
              "      <td>0</td>\n",
              "      <td>format</td>\n",
              "    </tr>\n",
              "    <tr>\n",
              "      <th>81</th>\n",
              "      <td>11</td>\n",
              "      <td>63</td>\n",
              "      <td>127</td>\n",
              "      <td>5</td>\n",
              "      <td>35</td>\n",
              "      <td>4</td>\n",
              "      <td>1</td>\n",
              "      <td>34</td>\n",
              "      <td>0</td>\n",
              "      <td>0</td>\n",
              "      <td>0</td>\n",
              "      <td>0</td>\n",
              "      <td>format</td>\n",
              "    </tr>\n",
              "    <tr>\n",
              "      <th>82</th>\n",
              "      <td>28</td>\n",
              "      <td>6</td>\n",
              "      <td>43</td>\n",
              "      <td>128</td>\n",
              "      <td>1</td>\n",
              "      <td>34</td>\n",
              "      <td>0</td>\n",
              "      <td>0</td>\n",
              "      <td>0</td>\n",
              "      <td>0</td>\n",
              "      <td>0</td>\n",
              "      <td>0</td>\n",
              "      <td>format</td>\n",
              "    </tr>\n",
              "    <tr>\n",
              "      <th>83</th>\n",
              "      <td>11</td>\n",
              "      <td>63</td>\n",
              "      <td>34</td>\n",
              "      <td>13</td>\n",
              "      <td>39</td>\n",
              "      <td>129</td>\n",
              "      <td>0</td>\n",
              "      <td>0</td>\n",
              "      <td>0</td>\n",
              "      <td>0</td>\n",
              "      <td>0</td>\n",
              "      <td>0</td>\n",
              "      <td>format</td>\n",
              "    </tr>\n",
              "  </tbody>\n",
              "</table>\n",
              "<p>84 rows × 13 columns</p>\n",
              "</div>"
            ],
            "text/plain": [
              "      0   1    2    3    4    5   6   7    8  9  10  11              labels\n",
              "0    44  35    0    0    0    0   0   0    0  0   0   0  start_conversation\n",
              "1    36  64   35    0    0    0   0   0    0  0   0   0  start_conversation\n",
              "2    65   0    0    0    0    0   0   0    0  0   0   0  start_conversation\n",
              "3    66   0    0    0    0    0   0   0    0  0   0   0  start_conversation\n",
              "4    67   0    0    0    0    0   0   0    0  0   0   0  start_conversation\n",
              "..  ...  ..  ...  ...  ...  ...  ..  ..  ... ..  ..  ..                 ...\n",
              "79  121   1   34  122    0    0   0   0    0  0   0   0              format\n",
              "80    6  43  123  124  125   49  43  32  126  0   0   0              format\n",
              "81   11  63  127    5   35    4   1  34    0  0   0   0              format\n",
              "82   28   6   43  128    1   34   0   0    0  0   0   0              format\n",
              "83   11  63   34   13   39  129   0   0    0  0   0   0              format\n",
              "\n",
              "[84 rows x 13 columns]"
            ]
          },
          "metadata": {
            "tags": []
          },
          "execution_count": 155
        }
      ]
    },
    {
      "cell_type": "code",
      "metadata": {
        "id": "IZZUkdDFp8Re"
      },
      "source": [
        "for i in range(0,2):\n",
        "    ds = [0]*max_length\n",
        "    ds.append('confused')\n",
        "    ds = [ds]\n",
        "    pd.DataFrame(ds).rename(columns = {max_length:'labels'})\n",
        "    dfen = dfen.append(pd.DataFrame(ds).rename(columns = {max_length:'labels'}),ignore_index=True)\n"
      ],
      "execution_count": null,
      "outputs": []
    },
    {
      "cell_type": "code",
      "metadata": {
        "id": "Dz8UlVWbp9rn",
        "outputId": "47c0b0ec-0c8f-4719-bc25-44f174cdbfe8",
        "colab": {
          "base_uri": "https://localhost:8080/",
          "height": 402
        }
      },
      "source": [
        "dfen"
      ],
      "execution_count": null,
      "outputs": [
        {
          "output_type": "execute_result",
          "data": {
            "text/html": [
              "<div>\n",
              "<style scoped>\n",
              "    .dataframe tbody tr th:only-of-type {\n",
              "        vertical-align: middle;\n",
              "    }\n",
              "\n",
              "    .dataframe tbody tr th {\n",
              "        vertical-align: top;\n",
              "    }\n",
              "\n",
              "    .dataframe thead th {\n",
              "        text-align: right;\n",
              "    }\n",
              "</style>\n",
              "<table border=\"1\" class=\"dataframe\">\n",
              "  <thead>\n",
              "    <tr style=\"text-align: right;\">\n",
              "      <th></th>\n",
              "      <th>0</th>\n",
              "      <th>1</th>\n",
              "      <th>2</th>\n",
              "      <th>3</th>\n",
              "      <th>4</th>\n",
              "      <th>5</th>\n",
              "      <th>6</th>\n",
              "      <th>7</th>\n",
              "      <th>8</th>\n",
              "      <th>9</th>\n",
              "      <th>10</th>\n",
              "      <th>11</th>\n",
              "      <th>labels</th>\n",
              "    </tr>\n",
              "  </thead>\n",
              "  <tbody>\n",
              "    <tr>\n",
              "      <th>0</th>\n",
              "      <td>44</td>\n",
              "      <td>35</td>\n",
              "      <td>0</td>\n",
              "      <td>0</td>\n",
              "      <td>0</td>\n",
              "      <td>0</td>\n",
              "      <td>0</td>\n",
              "      <td>0</td>\n",
              "      <td>0</td>\n",
              "      <td>0</td>\n",
              "      <td>0</td>\n",
              "      <td>0</td>\n",
              "      <td>start_conversation</td>\n",
              "    </tr>\n",
              "    <tr>\n",
              "      <th>1</th>\n",
              "      <td>36</td>\n",
              "      <td>64</td>\n",
              "      <td>35</td>\n",
              "      <td>0</td>\n",
              "      <td>0</td>\n",
              "      <td>0</td>\n",
              "      <td>0</td>\n",
              "      <td>0</td>\n",
              "      <td>0</td>\n",
              "      <td>0</td>\n",
              "      <td>0</td>\n",
              "      <td>0</td>\n",
              "      <td>start_conversation</td>\n",
              "    </tr>\n",
              "    <tr>\n",
              "      <th>2</th>\n",
              "      <td>65</td>\n",
              "      <td>0</td>\n",
              "      <td>0</td>\n",
              "      <td>0</td>\n",
              "      <td>0</td>\n",
              "      <td>0</td>\n",
              "      <td>0</td>\n",
              "      <td>0</td>\n",
              "      <td>0</td>\n",
              "      <td>0</td>\n",
              "      <td>0</td>\n",
              "      <td>0</td>\n",
              "      <td>start_conversation</td>\n",
              "    </tr>\n",
              "    <tr>\n",
              "      <th>3</th>\n",
              "      <td>66</td>\n",
              "      <td>0</td>\n",
              "      <td>0</td>\n",
              "      <td>0</td>\n",
              "      <td>0</td>\n",
              "      <td>0</td>\n",
              "      <td>0</td>\n",
              "      <td>0</td>\n",
              "      <td>0</td>\n",
              "      <td>0</td>\n",
              "      <td>0</td>\n",
              "      <td>0</td>\n",
              "      <td>start_conversation</td>\n",
              "    </tr>\n",
              "    <tr>\n",
              "      <th>4</th>\n",
              "      <td>67</td>\n",
              "      <td>0</td>\n",
              "      <td>0</td>\n",
              "      <td>0</td>\n",
              "      <td>0</td>\n",
              "      <td>0</td>\n",
              "      <td>0</td>\n",
              "      <td>0</td>\n",
              "      <td>0</td>\n",
              "      <td>0</td>\n",
              "      <td>0</td>\n",
              "      <td>0</td>\n",
              "      <td>start_conversation</td>\n",
              "    </tr>\n",
              "    <tr>\n",
              "      <th>...</th>\n",
              "      <td>...</td>\n",
              "      <td>...</td>\n",
              "      <td>...</td>\n",
              "      <td>...</td>\n",
              "      <td>...</td>\n",
              "      <td>...</td>\n",
              "      <td>...</td>\n",
              "      <td>...</td>\n",
              "      <td>...</td>\n",
              "      <td>...</td>\n",
              "      <td>...</td>\n",
              "      <td>...</td>\n",
              "      <td>...</td>\n",
              "    </tr>\n",
              "    <tr>\n",
              "      <th>81</th>\n",
              "      <td>11</td>\n",
              "      <td>63</td>\n",
              "      <td>127</td>\n",
              "      <td>5</td>\n",
              "      <td>35</td>\n",
              "      <td>4</td>\n",
              "      <td>1</td>\n",
              "      <td>34</td>\n",
              "      <td>0</td>\n",
              "      <td>0</td>\n",
              "      <td>0</td>\n",
              "      <td>0</td>\n",
              "      <td>format</td>\n",
              "    </tr>\n",
              "    <tr>\n",
              "      <th>82</th>\n",
              "      <td>28</td>\n",
              "      <td>6</td>\n",
              "      <td>43</td>\n",
              "      <td>128</td>\n",
              "      <td>1</td>\n",
              "      <td>34</td>\n",
              "      <td>0</td>\n",
              "      <td>0</td>\n",
              "      <td>0</td>\n",
              "      <td>0</td>\n",
              "      <td>0</td>\n",
              "      <td>0</td>\n",
              "      <td>format</td>\n",
              "    </tr>\n",
              "    <tr>\n",
              "      <th>83</th>\n",
              "      <td>11</td>\n",
              "      <td>63</td>\n",
              "      <td>34</td>\n",
              "      <td>13</td>\n",
              "      <td>39</td>\n",
              "      <td>129</td>\n",
              "      <td>0</td>\n",
              "      <td>0</td>\n",
              "      <td>0</td>\n",
              "      <td>0</td>\n",
              "      <td>0</td>\n",
              "      <td>0</td>\n",
              "      <td>format</td>\n",
              "    </tr>\n",
              "    <tr>\n",
              "      <th>84</th>\n",
              "      <td>0</td>\n",
              "      <td>0</td>\n",
              "      <td>0</td>\n",
              "      <td>0</td>\n",
              "      <td>0</td>\n",
              "      <td>0</td>\n",
              "      <td>0</td>\n",
              "      <td>0</td>\n",
              "      <td>0</td>\n",
              "      <td>0</td>\n",
              "      <td>0</td>\n",
              "      <td>0</td>\n",
              "      <td>confused</td>\n",
              "    </tr>\n",
              "    <tr>\n",
              "      <th>85</th>\n",
              "      <td>0</td>\n",
              "      <td>0</td>\n",
              "      <td>0</td>\n",
              "      <td>0</td>\n",
              "      <td>0</td>\n",
              "      <td>0</td>\n",
              "      <td>0</td>\n",
              "      <td>0</td>\n",
              "      <td>0</td>\n",
              "      <td>0</td>\n",
              "      <td>0</td>\n",
              "      <td>0</td>\n",
              "      <td>confused</td>\n",
              "    </tr>\n",
              "  </tbody>\n",
              "</table>\n",
              "<p>86 rows × 13 columns</p>\n",
              "</div>"
            ],
            "text/plain": [
              "     0   1    2    3   4    5  6   7  8  9  10  11              labels\n",
              "0   44  35    0    0   0    0  0   0  0  0   0   0  start_conversation\n",
              "1   36  64   35    0   0    0  0   0  0  0   0   0  start_conversation\n",
              "2   65   0    0    0   0    0  0   0  0  0   0   0  start_conversation\n",
              "3   66   0    0    0   0    0  0   0  0  0   0   0  start_conversation\n",
              "4   67   0    0    0   0    0  0   0  0  0   0   0  start_conversation\n",
              "..  ..  ..  ...  ...  ..  ... ..  .. .. ..  ..  ..                 ...\n",
              "81  11  63  127    5  35    4  1  34  0  0   0   0              format\n",
              "82  28   6   43  128   1   34  0   0  0  0   0   0              format\n",
              "83  11  63   34   13  39  129  0   0  0  0   0   0              format\n",
              "84   0   0    0    0   0    0  0   0  0  0   0   0            confused\n",
              "85   0   0    0    0   0    0  0   0  0  0   0   0            confused\n",
              "\n",
              "[86 rows x 13 columns]"
            ]
          },
          "metadata": {
            "tags": []
          },
          "execution_count": 157
        }
      ]
    },
    {
      "cell_type": "code",
      "metadata": {
        "id": "sne4ItF_qgND",
        "outputId": "46420b54-488b-47b1-c841-998b948f4051",
        "colab": {
          "base_uri": "https://localhost:8080/",
          "height": 70
        }
      },
      "source": [
        "i,j = dfen.shape\n",
        "train_index.append(i-2)\n",
        "test_index.append(i-1)\n",
        "print(train_index)\n",
        "print(test_index)"
      ],
      "execution_count": null,
      "outputs": [
        {
          "output_type": "stream",
          "text": [
            "[1, 2, 3, 4, 5, 6, 8, 9, 10, 12, 13, 14, 15, 17, 18, 19, 20, 22, 23, 24, 25, 26, 27, 28, 30, 31, 32, 33, 35, 36, 37, 38, 39, 41, 42, 43, 44, 46, 47, 48, 49, 51, 52, 53, 54, 56, 57, 58, 59, 61, 62, 63, 64, 66, 67, 68, 70, 71, 72, 73, 75, 76, 77, 78, 80, 81, 82, 83, 84]\n",
            "[40, 45, 29, 69, 55, 50, 11, 60, 79, 74, 21, 65, 0, 16, 34, 7, 85]\n"
          ],
          "name": "stdout"
        }
      ]
    },
    {
      "cell_type": "code",
      "metadata": {
        "id": "a9-92mEzqo_m",
        "outputId": "896d9193-9ca9-4a05-ba23-cfb3b65ee2d0",
        "colab": {
          "base_uri": "https://localhost:8080/",
          "height": 118
        }
      },
      "source": [
        "\n",
        "from sklearn.preprocessing import LabelEncoder\n",
        "leobj = LabelEncoder()\n",
        "l = leobj.fit_transform(dfen.labels)\n",
        "l"
      ],
      "execution_count": null,
      "outputs": [
        {
          "output_type": "execute_result",
          "data": {
            "text/plain": [
              "array([13, 13, 13, 13, 13, 13, 13, 16, 16, 16, 16,  7,  7,  7,  7,  7, 14,\n",
              "       14, 14, 14, 14, 11, 11, 11, 11, 11, 11, 11, 11,  2,  2,  2,  2,  2,\n",
              "       15, 15, 15, 15, 15, 15,  0,  0,  0,  0,  0,  1,  1,  1,  1,  1,  5,\n",
              "        5,  5,  5,  5,  4,  4,  4,  4,  4,  8,  8,  8,  8,  8, 12, 12, 12,\n",
              "       12,  3,  3,  3,  3,  3, 10, 10, 10, 10, 10,  9,  9,  9,  9,  9,  6,\n",
              "        6])"
            ]
          },
          "metadata": {
            "tags": []
          },
          "execution_count": 159
        }
      ]
    },
    {
      "cell_type": "code",
      "metadata": {
        "id": "ahQ5u6kfqtfb",
        "outputId": "e541c330-e32b-4acc-a71f-20f09aa975e4",
        "colab": {
          "base_uri": "https://localhost:8080/",
          "height": 302
        }
      },
      "source": [
        "\n",
        "mapper = {}\n",
        "for i,k in enumerate(dfen.labels):\n",
        "    if k not in mapper.keys():\n",
        "        mapper[k] = l[i]\n",
        "mapper"
      ],
      "execution_count": null,
      "outputs": [
        {
          "output_type": "execute_result",
          "data": {
            "text/plain": [
              "{'Science': 0,\n",
              " 'arts': 1,\n",
              " 'bot_scope': 2,\n",
              " 'choice': 3,\n",
              " 'civil': 4,\n",
              " 'commerce': 5,\n",
              " 'confused': 6,\n",
              " 'end_conversation': 7,\n",
              " 'engineering': 8,\n",
              " 'format': 9,\n",
              " 'guidance': 10,\n",
              " 'options': 11,\n",
              " 'results': 12,\n",
              " 'start_conversation': 13,\n",
              " 'thanks': 14,\n",
              " 'top_choices': 15,\n",
              " 'what_are_you': 16}"
            ]
          },
          "metadata": {
            "tags": []
          },
          "execution_count": 160
        }
      ]
    },
    {
      "cell_type": "code",
      "metadata": {
        "id": "K1jPLc2mqvX4"
      },
      "source": [
        "df2.labels = df2.labels.map(mapper).astype({'labels': 'int32'})"
      ],
      "execution_count": null,
      "outputs": []
    },
    {
      "cell_type": "code",
      "metadata": {
        "id": "pXSOInifGEfV",
        "outputId": "7b29d626-6619-482a-e2e9-48b95d3d2b18",
        "colab": {
          "base_uri": "https://localhost:8080/",
          "height": 1000
        }
      },
      "source": [
        "df2"
      ],
      "execution_count": null,
      "outputs": [
        {
          "output_type": "execute_result",
          "data": {
            "text/html": [
              "<div>\n",
              "<style scoped>\n",
              "    .dataframe tbody tr th:only-of-type {\n",
              "        vertical-align: middle;\n",
              "    }\n",
              "\n",
              "    .dataframe tbody tr th {\n",
              "        vertical-align: top;\n",
              "    }\n",
              "\n",
              "    .dataframe thead th {\n",
              "        text-align: right;\n",
              "    }\n",
              "</style>\n",
              "<table border=\"1\" class=\"dataframe\">\n",
              "  <thead>\n",
              "    <tr style=\"text-align: right;\">\n",
              "      <th></th>\n",
              "      <th>bot</th>\n",
              "      <th>labels</th>\n",
              "    </tr>\n",
              "  </thead>\n",
              "  <tbody>\n",
              "    <tr>\n",
              "      <th>0</th>\n",
              "      <td>Hello, nice to meet you</td>\n",
              "      <td>13</td>\n",
              "    </tr>\n",
              "    <tr>\n",
              "      <th>1</th>\n",
              "      <td>Happy to have you here</td>\n",
              "      <td>13</td>\n",
              "    </tr>\n",
              "    <tr>\n",
              "      <th>2</th>\n",
              "      <td>Good to see you again</td>\n",
              "      <td>13</td>\n",
              "    </tr>\n",
              "    <tr>\n",
              "      <th>3</th>\n",
              "      <td>Hi there, how can I help?</td>\n",
              "      <td>13</td>\n",
              "    </tr>\n",
              "    <tr>\n",
              "      <th>4</th>\n",
              "      <td>Hi, I'm  your CounselBot</td>\n",
              "      <td>16</td>\n",
              "    </tr>\n",
              "    <tr>\n",
              "      <th>5</th>\n",
              "      <td>I'm CounselBot</td>\n",
              "      <td>16</td>\n",
              "    </tr>\n",
              "    <tr>\n",
              "      <th>6</th>\n",
              "      <td>Call me CounselBot</td>\n",
              "      <td>16</td>\n",
              "    </tr>\n",
              "    <tr>\n",
              "      <th>7</th>\n",
              "      <td>Have a lovely time!</td>\n",
              "      <td>7</td>\n",
              "    </tr>\n",
              "    <tr>\n",
              "      <th>8</th>\n",
              "      <td>Have a wonderful day</td>\n",
              "      <td>7</td>\n",
              "    </tr>\n",
              "    <tr>\n",
              "      <th>9</th>\n",
              "      <td>Suite yourself</td>\n",
              "      <td>7</td>\n",
              "    </tr>\n",
              "    <tr>\n",
              "      <th>10</th>\n",
              "      <td>Have fun!</td>\n",
              "      <td>7</td>\n",
              "    </tr>\n",
              "    <tr>\n",
              "      <th>11</th>\n",
              "      <td>Happy to help!</td>\n",
              "      <td>14</td>\n",
              "    </tr>\n",
              "    <tr>\n",
              "      <th>12</th>\n",
              "      <td>Any time!</td>\n",
              "      <td>14</td>\n",
              "    </tr>\n",
              "    <tr>\n",
              "      <th>13</th>\n",
              "      <td>My pleasure</td>\n",
              "      <td>14</td>\n",
              "    </tr>\n",
              "    <tr>\n",
              "      <th>14</th>\n",
              "      <td>Do enjoy the game</td>\n",
              "      <td>14</td>\n",
              "    </tr>\n",
              "    <tr>\n",
              "      <th>15</th>\n",
              "      <td>Have fun on tennis court</td>\n",
              "      <td>14</td>\n",
              "    </tr>\n",
              "    <tr>\n",
              "      <th>16</th>\n",
              "      <td>Sorry, kindly rephrase the question</td>\n",
              "      <td>6</td>\n",
              "    </tr>\n",
              "    <tr>\n",
              "      <th>17</th>\n",
              "      <td>Sorry, can't understand you</td>\n",
              "      <td>6</td>\n",
              "    </tr>\n",
              "    <tr>\n",
              "      <th>18</th>\n",
              "      <td>Please give me more information</td>\n",
              "      <td>6</td>\n",
              "    </tr>\n",
              "    <tr>\n",
              "      <th>19</th>\n",
              "      <td>Not sure I understand</td>\n",
              "      <td>6</td>\n",
              "    </tr>\n",
              "    <tr>\n",
              "      <th>20</th>\n",
              "      <td>I can guide you through how to get started wit...</td>\n",
              "      <td>11</td>\n",
              "    </tr>\n",
              "    <tr>\n",
              "      <th>21</th>\n",
              "      <td>I know quiet some things about career selectio...</td>\n",
              "      <td>2</td>\n",
              "    </tr>\n",
              "    <tr>\n",
              "      <th>22</th>\n",
              "      <td>I know some of the most selected fields like s...</td>\n",
              "      <td>2</td>\n",
              "    </tr>\n",
              "    <tr>\n",
              "      <th>23</th>\n",
              "      <td>Ask me a question about career choices and I w...</td>\n",
              "      <td>2</td>\n",
              "    </tr>\n",
              "    <tr>\n",
              "      <th>24</th>\n",
              "      <td>As of January 2020, the top career paths are S...</td>\n",
              "      <td>15</td>\n",
              "    </tr>\n",
              "    <tr>\n",
              "      <th>25</th>\n",
              "      <td>The general sub streams in science are biology...</td>\n",
              "      <td>0</td>\n",
              "    </tr>\n",
              "    <tr>\n",
              "      <th>26</th>\n",
              "      <td>The general sub streams in arts are visual com...</td>\n",
              "      <td>1</td>\n",
              "    </tr>\n",
              "    <tr>\n",
              "      <th>27</th>\n",
              "      <td>The general sub streams in commerce are accoun...</td>\n",
              "      <td>5</td>\n",
              "    </tr>\n",
              "    <tr>\n",
              "      <th>28</th>\n",
              "      <td>The job oppurtunities in civil services are IA...</td>\n",
              "      <td>4</td>\n",
              "    </tr>\n",
              "    <tr>\n",
              "      <th>29</th>\n",
              "      <td>The branches in engineering are computer scien...</td>\n",
              "      <td>8</td>\n",
              "    </tr>\n",
              "    <tr>\n",
              "      <th>30</th>\n",
              "      <td>Your results will be displayed in a detailed m...</td>\n",
              "      <td>12</td>\n",
              "    </tr>\n",
              "    <tr>\n",
              "      <th>31</th>\n",
              "      <td>It's never too late to change your career if y...</td>\n",
              "      <td>3</td>\n",
              "    </tr>\n",
              "    <tr>\n",
              "      <th>32</th>\n",
              "      <td>The results will be followed by contacts of a ...</td>\n",
              "      <td>10</td>\n",
              "    </tr>\n",
              "    <tr>\n",
              "      <th>33</th>\n",
              "      <td>The test comprises of forty multiple choice qu...</td>\n",
              "      <td>9</td>\n",
              "    </tr>\n",
              "  </tbody>\n",
              "</table>\n",
              "</div>"
            ],
            "text/plain": [
              "                                                  bot  labels\n",
              "0                             Hello, nice to meet you      13\n",
              "1                              Happy to have you here      13\n",
              "2                               Good to see you again      13\n",
              "3                           Hi there, how can I help?      13\n",
              "4                            Hi, I'm  your CounselBot      16\n",
              "5                                     I'm CounselBot       16\n",
              "6                                  Call me CounselBot      16\n",
              "7                                 Have a lovely time!       7\n",
              "8                                Have a wonderful day       7\n",
              "9                                      Suite yourself       7\n",
              "10                                          Have fun!       7\n",
              "11                                     Happy to help!      14\n",
              "12                                          Any time!      14\n",
              "13                                        My pleasure      14\n",
              "14                                  Do enjoy the game      14\n",
              "15                           Have fun on tennis court      14\n",
              "16                Sorry, kindly rephrase the question       6\n",
              "17                        Sorry, can't understand you       6\n",
              "18                    Please give me more information       6\n",
              "19                              Not sure I understand       6\n",
              "20  I can guide you through how to get started wit...      11\n",
              "21  I know quiet some things about career selectio...       2\n",
              "22  I know some of the most selected fields like s...       2\n",
              "23  Ask me a question about career choices and I w...       2\n",
              "24  As of January 2020, the top career paths are S...      15\n",
              "25  The general sub streams in science are biology...       0\n",
              "26  The general sub streams in arts are visual com...       1\n",
              "27  The general sub streams in commerce are accoun...       5\n",
              "28  The job oppurtunities in civil services are IA...       4\n",
              "29  The branches in engineering are computer scien...       8\n",
              "30  Your results will be displayed in a detailed m...      12\n",
              "31  It's never too late to change your career if y...       3\n",
              "32  The results will be followed by contacts of a ...      10\n",
              "33  The test comprises of forty multiple choice qu...       9"
            ]
          },
          "metadata": {
            "tags": []
          },
          "execution_count": 162
        }
      ]
    },
    {
      "cell_type": "code",
      "metadata": {
        "id": "Mm6qMlxRq3AG"
      },
      "source": [
        "df2.to_csv('bot.csv',index=False)\n"
      ],
      "execution_count": null,
      "outputs": []
    },
    {
      "cell_type": "code",
      "metadata": {
        "id": "UlP3wguRq-tD"
      },
      "source": [
        "\n",
        "train = dfen.loc[train_index]\n",
        "test = dfen.loc[test_index]"
      ],
      "execution_count": null,
      "outputs": []
    },
    {
      "cell_type": "code",
      "metadata": {
        "id": "MjwYDNWfrCo3"
      },
      "source": [
        "X_train = train.drop(columns=['labels'],axis=1)\n",
        "y_train = train.labels\n",
        "X_test = test.drop(columns=['labels'],axis=1)\n",
        "y_test = test.labels\n"
      ],
      "execution_count": null,
      "outputs": []
    },
    {
      "cell_type": "code",
      "metadata": {
        "id": "FUvE6vvVIgl8"
      },
      "source": [
        "\n",
        "y_train =pd.get_dummies(y_train).values\n",
        "y_test =pd.get_dummies(y_test).values"
      ],
      "execution_count": null,
      "outputs": []
    },
    {
      "cell_type": "code",
      "metadata": {
        "id": "jz2MZyOOIUWm",
        "outputId": "62e350ed-b72a-400f-bffa-15b3b5890a70",
        "colab": {
          "base_uri": "https://localhost:8080/",
          "height": 34
        }
      },
      "source": [
        "y_train[0].shape,y_test[0].shape"
      ],
      "execution_count": null,
      "outputs": [
        {
          "output_type": "execute_result",
          "data": {
            "text/plain": [
              "((17,), (17,))"
            ]
          },
          "metadata": {
            "tags": []
          },
          "execution_count": 167
        }
      ]
    },
    {
      "cell_type": "code",
      "metadata": {
        "id": "WitbgNwTrJKO",
        "outputId": "9853e591-053d-462d-d2a2-39d9fcb30af8",
        "colab": {
          "base_uri": "https://localhost:8080/",
          "height": 34
        }
      },
      "source": [
        "X_train.shape"
      ],
      "execution_count": null,
      "outputs": [
        {
          "output_type": "execute_result",
          "data": {
            "text/plain": [
              "(69, 12)"
            ]
          },
          "metadata": {
            "tags": []
          },
          "execution_count": 168
        }
      ]
    },
    {
      "cell_type": "code",
      "metadata": {
        "id": "BD2xjYfCrKx6",
        "outputId": "30eff681-8c56-47b6-c127-f39a5ea51a44",
        "colab": {
          "base_uri": "https://localhost:8080/",
          "height": 34
        }
      },
      "source": [
        "max_length = X_train.shape[1]\n",
        "output = len(df2.labels.unique())\n",
        "print(max_length, output)"
      ],
      "execution_count": null,
      "outputs": [
        {
          "output_type": "stream",
          "text": [
            "12 17\n"
          ],
          "name": "stdout"
        }
      ]
    },
    {
      "cell_type": "code",
      "metadata": {
        "id": "I2JP2KxG1Mgp"
      },
      "source": [
        "\n",
        "early_stopping = EarlyStopping(monitor='val_loss',patience=10)\n",
        "cp = ModelCheckpoint(\"botmodel.h5\",\n",
        "                             monitor=\"val_loss\",\n",
        "                             mode=\"min\",\n",
        "                             save_best_only = True,\n",
        "                             verbose=1)\n",
        "rlr = ReduceLROnPlateau(monitor = 'val_loss', factor = 0.2, patience = 3, verbose = 1, min_delta = 0.0001)\n",
        "total_call = [early_stopping,cp,rlr]"
      ],
      "execution_count": null,
      "outputs": []
    },
    {
      "cell_type": "code",
      "metadata": {
        "id": "G1F3QPXT1Qiz"
      },
      "source": [
        "\n",
        "def define_model(wordlen, max_length,output):\n",
        "    model = Sequential()\n",
        "    #model.add(LSTM(1, activation='relu'))\n",
        "    model.add(Embedding(wordlen,300, input_length=max_length))\n",
        "    model.add(Conv1D(filters=64, kernel_size=4, activation='relu'))\n",
        "    model.add(MaxPooling1D(pool_size=8))\n",
        "    model.add(Flatten())\n",
        "   # model.add(LSTM(1, activation=\"relu\", return_sequences=True))\n",
        "    model.add(Dense(output, activation='softmax'))\n",
        "    \n",
        "    model.compile(loss = 'categorical_crossentropy',\n",
        "              optimizer = 'adam',\n",
        "              metrics = ['accuracy'])\n",
        "    \n",
        "    model.summary()\n",
        "    return model"
      ],
      "execution_count": null,
      "outputs": []
    },
    {
      "cell_type": "code",
      "metadata": {
        "id": "J8MJZBv41SEz",
        "outputId": "0798537c-d50d-4f58-c38d-e77c334e1916",
        "colab": {
          "base_uri": "https://localhost:8080/",
          "height": 319
        }
      },
      "source": [
        "model = define_model(wordlen, max_length,output)\n"
      ],
      "execution_count": null,
      "outputs": [
        {
          "output_type": "stream",
          "text": [
            "Model: \"sequential_3\"\n",
            "_________________________________________________________________\n",
            "Layer (type)                 Output Shape              Param #   \n",
            "=================================================================\n",
            "embedding_3 (Embedding)      (None, 12, 300)           39000     \n",
            "_________________________________________________________________\n",
            "conv1d_3 (Conv1D)            (None, 9, 64)             76864     \n",
            "_________________________________________________________________\n",
            "max_pooling1d_3 (MaxPooling1 (None, 1, 64)             0         \n",
            "_________________________________________________________________\n",
            "flatten_2 (Flatten)          (None, 64)                0         \n",
            "_________________________________________________________________\n",
            "dense_2 (Dense)              (None, 17)                1105      \n",
            "=================================================================\n",
            "Total params: 116,969\n",
            "Trainable params: 116,969\n",
            "Non-trainable params: 0\n",
            "_________________________________________________________________\n"
          ],
          "name": "stdout"
        }
      ]
    },
    {
      "cell_type": "code",
      "metadata": {
        "id": "E7JoXAQ21S79",
        "outputId": "8588f697-f444-4ee2-db7c-0205e6f7e424",
        "colab": {
          "base_uri": "https://localhost:8080/",
          "height": 1000
        }
      },
      "source": [
        "mod_sum = model.fit(X_train, y_train, epochs=500, verbose=1,\n",
        "                    validation_data=(X_test,y_test),callbacks=total_call)"
      ],
      "execution_count": null,
      "outputs": [
        {
          "output_type": "stream",
          "text": [
            "Epoch 1/500\n",
            "1/3 [=========>....................] - ETA: 0s - loss: 2.8494 - accuracy: 0.0000e+00\n",
            "Epoch 00001: val_loss did not improve from 0.69712\n",
            "3/3 [==============================] - 0s 56ms/step - loss: 2.8333 - accuracy: 0.0290 - val_loss: 2.7900 - val_accuracy: 0.2353\n",
            "Epoch 2/500\n",
            "1/3 [=========>....................] - ETA: 0s - loss: 2.7419 - accuracy: 0.3125\n",
            "Epoch 00002: val_loss did not improve from 0.69712\n",
            "3/3 [==============================] - 0s 10ms/step - loss: 2.7324 - accuracy: 0.3188 - val_loss: 2.7515 - val_accuracy: 0.2353\n",
            "Epoch 3/500\n",
            "1/3 [=========>....................] - ETA: 0s - loss: 2.6894 - accuracy: 0.3438\n",
            "Epoch 00003: val_loss did not improve from 0.69712\n",
            "3/3 [==============================] - 0s 10ms/step - loss: 2.6666 - accuracy: 0.3913 - val_loss: 2.7166 - val_accuracy: 0.2353\n",
            "Epoch 4/500\n",
            "1/3 [=========>....................] - ETA: 0s - loss: 2.6070 - accuracy: 0.4688\n",
            "Epoch 00004: val_loss did not improve from 0.69712\n",
            "3/3 [==============================] - 0s 10ms/step - loss: 2.6045 - accuracy: 0.4928 - val_loss: 2.6760 - val_accuracy: 0.2941\n",
            "Epoch 5/500\n",
            "1/3 [=========>....................] - ETA: 0s - loss: 2.5464 - accuracy: 0.4688\n",
            "Epoch 00005: val_loss did not improve from 0.69712\n",
            "3/3 [==============================] - 0s 10ms/step - loss: 2.5394 - accuracy: 0.4928 - val_loss: 2.6373 - val_accuracy: 0.2941\n",
            "Epoch 6/500\n",
            "1/3 [=========>....................] - ETA: 0s - loss: 2.4529 - accuracy: 0.6562\n",
            "Epoch 00006: val_loss did not improve from 0.69712\n",
            "3/3 [==============================] - 0s 10ms/step - loss: 2.4754 - accuracy: 0.5652 - val_loss: 2.5987 - val_accuracy: 0.3529\n",
            "Epoch 7/500\n",
            "1/3 [=========>....................] - ETA: 0s - loss: 2.3677 - accuracy: 0.6875\n",
            "Epoch 00007: val_loss did not improve from 0.69712\n",
            "3/3 [==============================] - 0s 10ms/step - loss: 2.4090 - accuracy: 0.5942 - val_loss: 2.5571 - val_accuracy: 0.3529\n",
            "Epoch 8/500\n",
            "1/3 [=========>....................] - ETA: 0s - loss: 2.3827 - accuracy: 0.5312\n",
            "Epoch 00008: val_loss did not improve from 0.69712\n",
            "3/3 [==============================] - 0s 10ms/step - loss: 2.3351 - accuracy: 0.6232 - val_loss: 2.5092 - val_accuracy: 0.3529\n",
            "Epoch 9/500\n",
            "1/3 [=========>....................] - ETA: 0s - loss: 2.2666 - accuracy: 0.6250\n",
            "Epoch 00009: val_loss did not improve from 0.69712\n",
            "3/3 [==============================] - 0s 10ms/step - loss: 2.2623 - accuracy: 0.6232 - val_loss: 2.4568 - val_accuracy: 0.3529\n",
            "Epoch 10/500\n",
            "1/3 [=========>....................] - ETA: 0s - loss: 2.1564 - accuracy: 0.5938\n",
            "Epoch 00010: val_loss did not improve from 0.69712\n",
            "3/3 [==============================] - 0s 11ms/step - loss: 2.1838 - accuracy: 0.6667 - val_loss: 2.4054 - val_accuracy: 0.3529\n",
            "Epoch 11/500\n",
            "1/3 [=========>....................] - ETA: 0s - loss: 2.1776 - accuracy: 0.5625\n",
            "Epoch 00011: val_loss did not improve from 0.69712\n",
            "3/3 [==============================] - 0s 13ms/step - loss: 2.1018 - accuracy: 0.6812 - val_loss: 2.3540 - val_accuracy: 0.3529\n",
            "Epoch 12/500\n",
            "1/3 [=========>....................] - ETA: 0s - loss: 1.9854 - accuracy: 0.7188\n",
            "Epoch 00012: val_loss did not improve from 0.69712\n",
            "3/3 [==============================] - 0s 13ms/step - loss: 2.0164 - accuracy: 0.7246 - val_loss: 2.2974 - val_accuracy: 0.3529\n",
            "Epoch 13/500\n",
            "1/3 [=========>....................] - ETA: 0s - loss: 1.9764 - accuracy: 0.6875\n",
            "Epoch 00013: val_loss did not improve from 0.69712\n",
            "3/3 [==============================] - 0s 11ms/step - loss: 1.9251 - accuracy: 0.7681 - val_loss: 2.2372 - val_accuracy: 0.4118\n",
            "Epoch 14/500\n",
            "1/3 [=========>....................] - ETA: 0s - loss: 1.8213 - accuracy: 0.7812\n",
            "Epoch 00014: val_loss did not improve from 0.69712\n",
            "3/3 [==============================] - 0s 10ms/step - loss: 1.8365 - accuracy: 0.7971 - val_loss: 2.1726 - val_accuracy: 0.4118\n",
            "Epoch 15/500\n",
            "1/3 [=========>....................] - ETA: 0s - loss: 1.8127 - accuracy: 0.7500\n",
            "Epoch 00015: val_loss did not improve from 0.69712\n",
            "3/3 [==============================] - 0s 10ms/step - loss: 1.7376 - accuracy: 0.7971 - val_loss: 2.1088 - val_accuracy: 0.5294\n",
            "Epoch 16/500\n",
            "1/3 [=========>....................] - ETA: 0s - loss: 1.6430 - accuracy: 0.8438\n",
            "Epoch 00016: val_loss did not improve from 0.69712\n",
            "3/3 [==============================] - 0s 9ms/step - loss: 1.6389 - accuracy: 0.8406 - val_loss: 2.0460 - val_accuracy: 0.5294\n",
            "Epoch 17/500\n",
            "1/3 [=========>....................] - ETA: 0s - loss: 1.5202 - accuracy: 0.8438\n",
            "Epoch 00017: val_loss did not improve from 0.69712\n",
            "3/3 [==============================] - 0s 10ms/step - loss: 1.5401 - accuracy: 0.8551 - val_loss: 1.9798 - val_accuracy: 0.5294\n",
            "Epoch 18/500\n",
            "1/3 [=========>....................] - ETA: 0s - loss: 1.4756 - accuracy: 0.8750\n",
            "Epoch 00018: val_loss did not improve from 0.69712\n",
            "3/3 [==============================] - 0s 9ms/step - loss: 1.4381 - accuracy: 0.8696 - val_loss: 1.9087 - val_accuracy: 0.5294\n",
            "Epoch 19/500\n",
            "1/3 [=========>....................] - ETA: 0s - loss: 1.2118 - accuracy: 0.9688\n",
            "Epoch 00019: val_loss did not improve from 0.69712\n",
            "3/3 [==============================] - 0s 10ms/step - loss: 1.3358 - accuracy: 0.8696 - val_loss: 1.8451 - val_accuracy: 0.5294\n",
            "Epoch 20/500\n",
            "1/3 [=========>....................] - ETA: 0s - loss: 1.2853 - accuracy: 0.8750\n",
            "Epoch 00020: val_loss did not improve from 0.69712\n",
            "3/3 [==============================] - 0s 9ms/step - loss: 1.2377 - accuracy: 0.8696 - val_loss: 1.7813 - val_accuracy: 0.5294\n",
            "Epoch 21/500\n",
            "1/3 [=========>....................] - ETA: 0s - loss: 1.0197 - accuracy: 1.0000\n",
            "Epoch 00021: val_loss did not improve from 0.69712\n",
            "3/3 [==============================] - 0s 10ms/step - loss: 1.1404 - accuracy: 0.9420 - val_loss: 1.7174 - val_accuracy: 0.5882\n",
            "Epoch 22/500\n",
            "1/3 [=========>....................] - ETA: 0s - loss: 1.2459 - accuracy: 0.9375\n",
            "Epoch 00022: val_loss did not improve from 0.69712\n",
            "3/3 [==============================] - 0s 11ms/step - loss: 1.0462 - accuracy: 0.9565 - val_loss: 1.6547 - val_accuracy: 0.5882\n",
            "Epoch 23/500\n",
            "1/3 [=========>....................] - ETA: 0s - loss: 0.9593 - accuracy: 1.0000\n",
            "Epoch 00023: val_loss did not improve from 0.69712\n",
            "3/3 [==============================] - 0s 10ms/step - loss: 0.9596 - accuracy: 0.9565 - val_loss: 1.5961 - val_accuracy: 0.5882\n",
            "Epoch 24/500\n",
            "1/3 [=========>....................] - ETA: 0s - loss: 0.9364 - accuracy: 0.9688\n",
            "Epoch 00024: val_loss did not improve from 0.69712\n",
            "3/3 [==============================] - 0s 10ms/step - loss: 0.8705 - accuracy: 0.9565 - val_loss: 1.5391 - val_accuracy: 0.5882\n",
            "Epoch 25/500\n",
            "1/3 [=========>....................] - ETA: 0s - loss: 0.8065 - accuracy: 0.9062\n",
            "Epoch 00025: val_loss did not improve from 0.69712\n",
            "3/3 [==============================] - 0s 10ms/step - loss: 0.7880 - accuracy: 0.9565 - val_loss: 1.4891 - val_accuracy: 0.5882\n",
            "Epoch 26/500\n",
            "1/3 [=========>....................] - ETA: 0s - loss: 0.7384 - accuracy: 0.9688\n",
            "Epoch 00026: val_loss did not improve from 0.69712\n",
            "3/3 [==============================] - 0s 10ms/step - loss: 0.7145 - accuracy: 0.9565 - val_loss: 1.4432 - val_accuracy: 0.6471\n",
            "Epoch 27/500\n",
            "1/3 [=========>....................] - ETA: 0s - loss: 0.6301 - accuracy: 0.9375\n",
            "Epoch 00027: val_loss did not improve from 0.69712\n",
            "3/3 [==============================] - 0s 10ms/step - loss: 0.6447 - accuracy: 0.9565 - val_loss: 1.3967 - val_accuracy: 0.6471\n",
            "Epoch 28/500\n",
            "1/3 [=========>....................] - ETA: 0s - loss: 0.5796 - accuracy: 0.9688\n",
            "Epoch 00028: val_loss did not improve from 0.69712\n",
            "3/3 [==============================] - 0s 9ms/step - loss: 0.5821 - accuracy: 0.9565 - val_loss: 1.3577 - val_accuracy: 0.6471\n",
            "Epoch 29/500\n",
            "1/3 [=========>....................] - ETA: 0s - loss: 0.4703 - accuracy: 1.0000\n",
            "Epoch 00029: val_loss did not improve from 0.69712\n",
            "3/3 [==============================] - 0s 10ms/step - loss: 0.5254 - accuracy: 0.9710 - val_loss: 1.3202 - val_accuracy: 0.6471\n",
            "Epoch 30/500\n",
            "1/3 [=========>....................] - ETA: 0s - loss: 0.5202 - accuracy: 0.9375\n",
            "Epoch 00030: val_loss did not improve from 0.69712\n",
            "3/3 [==============================] - 0s 10ms/step - loss: 0.4718 - accuracy: 0.9710 - val_loss: 1.2870 - val_accuracy: 0.6471\n",
            "Epoch 31/500\n",
            "1/3 [=========>....................] - ETA: 0s - loss: 0.5121 - accuracy: 0.9375\n",
            "Epoch 00031: val_loss did not improve from 0.69712\n",
            "3/3 [==============================] - 0s 10ms/step - loss: 0.4258 - accuracy: 0.9710 - val_loss: 1.2540 - val_accuracy: 0.6471\n",
            "Epoch 32/500\n",
            "1/3 [=========>....................] - ETA: 0s - loss: 0.4064 - accuracy: 0.9688\n",
            "Epoch 00032: val_loss did not improve from 0.69712\n",
            "3/3 [==============================] - 0s 10ms/step - loss: 0.3838 - accuracy: 0.9710 - val_loss: 1.2190 - val_accuracy: 0.7059\n",
            "Epoch 33/500\n",
            "1/3 [=========>....................] - ETA: 0s - loss: 0.3920 - accuracy: 0.9688\n",
            "Epoch 00033: val_loss did not improve from 0.69712\n",
            "3/3 [==============================] - 0s 10ms/step - loss: 0.3470 - accuracy: 0.9710 - val_loss: 1.1862 - val_accuracy: 0.7059\n",
            "Epoch 34/500\n",
            "1/3 [=========>....................] - ETA: 0s - loss: 0.3699 - accuracy: 0.9688\n",
            "Epoch 00034: val_loss did not improve from 0.69712\n",
            "3/3 [==============================] - 0s 12ms/step - loss: 0.3109 - accuracy: 0.9855 - val_loss: 1.1592 - val_accuracy: 0.7059\n",
            "Epoch 35/500\n",
            "1/3 [=========>....................] - ETA: 0s - loss: 0.3230 - accuracy: 0.9688\n",
            "Epoch 00035: val_loss did not improve from 0.69712\n",
            "3/3 [==============================] - 0s 10ms/step - loss: 0.2827 - accuracy: 0.9855 - val_loss: 1.1371 - val_accuracy: 0.7059\n",
            "Epoch 36/500\n",
            "1/3 [=========>....................] - ETA: 0s - loss: 0.2016 - accuracy: 1.0000\n",
            "Epoch 00036: val_loss did not improve from 0.69712\n",
            "3/3 [==============================] - 0s 10ms/step - loss: 0.2556 - accuracy: 0.9855 - val_loss: 1.1178 - val_accuracy: 0.7647\n",
            "Epoch 37/500\n",
            "1/3 [=========>....................] - ETA: 0s - loss: 0.2051 - accuracy: 1.0000\n",
            "Epoch 00037: val_loss did not improve from 0.69712\n",
            "3/3 [==============================] - 0s 10ms/step - loss: 0.2333 - accuracy: 0.9855 - val_loss: 1.1006 - val_accuracy: 0.7647\n",
            "Epoch 38/500\n",
            "1/3 [=========>....................] - ETA: 0s - loss: 0.1847 - accuracy: 1.0000\n",
            "Epoch 00038: val_loss did not improve from 0.69712\n",
            "3/3 [==============================] - 0s 10ms/step - loss: 0.2133 - accuracy: 0.9855 - val_loss: 1.0802 - val_accuracy: 0.7647\n",
            "Epoch 39/500\n",
            "1/3 [=========>....................] - ETA: 0s - loss: 0.2524 - accuracy: 0.9688\n",
            "Epoch 00039: val_loss did not improve from 0.69712\n",
            "3/3 [==============================] - 0s 11ms/step - loss: 0.1964 - accuracy: 0.9855 - val_loss: 1.0588 - val_accuracy: 0.7647\n",
            "Epoch 40/500\n",
            "1/3 [=========>....................] - ETA: 0s - loss: 0.1682 - accuracy: 1.0000\n",
            "Epoch 00040: val_loss did not improve from 0.69712\n",
            "3/3 [==============================] - 0s 10ms/step - loss: 0.1796 - accuracy: 0.9855 - val_loss: 1.0360 - val_accuracy: 0.7647\n",
            "Epoch 41/500\n",
            "1/3 [=========>....................] - ETA: 0s - loss: 0.1187 - accuracy: 1.0000\n",
            "Epoch 00041: val_loss did not improve from 0.69712\n",
            "3/3 [==============================] - 0s 9ms/step - loss: 0.1657 - accuracy: 0.9855 - val_loss: 1.0134 - val_accuracy: 0.7647\n",
            "Epoch 42/500\n",
            "1/3 [=========>....................] - ETA: 0s - loss: 0.2141 - accuracy: 0.9688\n",
            "Epoch 00042: val_loss did not improve from 0.69712\n",
            "3/3 [==============================] - 0s 10ms/step - loss: 0.1542 - accuracy: 0.9855 - val_loss: 0.9950 - val_accuracy: 0.8235\n",
            "Epoch 43/500\n",
            "1/3 [=========>....................] - ETA: 0s - loss: 0.0987 - accuracy: 1.0000\n",
            "Epoch 00043: val_loss did not improve from 0.69712\n",
            "3/3 [==============================] - 0s 10ms/step - loss: 0.1426 - accuracy: 0.9855 - val_loss: 0.9817 - val_accuracy: 0.7647\n",
            "Epoch 44/500\n",
            "1/3 [=========>....................] - ETA: 0s - loss: 0.1739 - accuracy: 0.9688\n",
            "Epoch 00044: val_loss did not improve from 0.69712\n",
            "3/3 [==============================] - 0s 10ms/step - loss: 0.1333 - accuracy: 0.9855 - val_loss: 0.9699 - val_accuracy: 0.7647\n",
            "Epoch 45/500\n",
            "1/3 [=========>....................] - ETA: 0s - loss: 0.1635 - accuracy: 0.9688\n",
            "Epoch 00045: val_loss did not improve from 0.69712\n",
            "3/3 [==============================] - 0s 10ms/step - loss: 0.1244 - accuracy: 0.9855 - val_loss: 0.9592 - val_accuracy: 0.7647\n",
            "Epoch 46/500\n",
            "1/3 [=========>....................] - ETA: 0s - loss: 0.1436 - accuracy: 0.9688\n",
            "Epoch 00046: val_loss did not improve from 0.69712\n",
            "3/3 [==============================] - 0s 10ms/step - loss: 0.1164 - accuracy: 0.9855 - val_loss: 0.9481 - val_accuracy: 0.7647\n",
            "Epoch 47/500\n",
            "1/3 [=========>....................] - ETA: 0s - loss: 0.1476 - accuracy: 0.9688\n",
            "Epoch 00047: val_loss did not improve from 0.69712\n",
            "3/3 [==============================] - 0s 10ms/step - loss: 0.1088 - accuracy: 0.9855 - val_loss: 0.9352 - val_accuracy: 0.8235\n",
            "Epoch 48/500\n",
            "1/3 [=========>....................] - ETA: 0s - loss: 0.0723 - accuracy: 1.0000\n",
            "Epoch 00048: val_loss did not improve from 0.69712\n",
            "3/3 [==============================] - 0s 10ms/step - loss: 0.1029 - accuracy: 0.9855 - val_loss: 0.9245 - val_accuracy: 0.8235\n",
            "Epoch 49/500\n",
            "1/3 [=========>....................] - ETA: 0s - loss: 0.1421 - accuracy: 0.9688\n",
            "Epoch 00049: val_loss did not improve from 0.69712\n",
            "3/3 [==============================] - 0s 10ms/step - loss: 0.0971 - accuracy: 0.9855 - val_loss: 0.9168 - val_accuracy: 0.8235\n",
            "Epoch 50/500\n",
            "1/3 [=========>....................] - ETA: 0s - loss: 0.1263 - accuracy: 0.9688\n",
            "Epoch 00050: val_loss did not improve from 0.69712\n",
            "3/3 [==============================] - 0s 10ms/step - loss: 0.0912 - accuracy: 0.9855 - val_loss: 0.9126 - val_accuracy: 0.8235\n",
            "Epoch 51/500\n",
            "1/3 [=========>....................] - ETA: 0s - loss: 0.0499 - accuracy: 1.0000\n",
            "Epoch 00051: val_loss did not improve from 0.69712\n",
            "3/3 [==============================] - 0s 10ms/step - loss: 0.0863 - accuracy: 0.9855 - val_loss: 0.9122 - val_accuracy: 0.8235\n",
            "Epoch 52/500\n",
            "1/3 [=========>....................] - ETA: 0s - loss: 0.0421 - accuracy: 1.0000\n",
            "Epoch 00052: val_loss did not improve from 0.69712\n",
            "3/3 [==============================] - 0s 10ms/step - loss: 0.0819 - accuracy: 0.9855 - val_loss: 0.9106 - val_accuracy: 0.8235\n",
            "Epoch 53/500\n",
            "1/3 [=========>....................] - ETA: 0s - loss: 0.0498 - accuracy: 1.0000\n",
            "Epoch 00053: val_loss did not improve from 0.69712\n",
            "3/3 [==============================] - 0s 10ms/step - loss: 0.0784 - accuracy: 0.9855 - val_loss: 0.9050 - val_accuracy: 0.8235\n",
            "Epoch 54/500\n",
            "1/3 [=========>....................] - ETA: 0s - loss: 0.0410 - accuracy: 1.0000\n",
            "Epoch 00054: val_loss did not improve from 0.69712\n",
            "3/3 [==============================] - 0s 9ms/step - loss: 0.0744 - accuracy: 0.9855 - val_loss: 0.8932 - val_accuracy: 0.8235\n",
            "Epoch 55/500\n",
            "1/3 [=========>....................] - ETA: 0s - loss: 0.1100 - accuracy: 0.9688\n",
            "Epoch 00055: val_loss did not improve from 0.69712\n",
            "3/3 [==============================] - 0s 10ms/step - loss: 0.0716 - accuracy: 0.9855 - val_loss: 0.8821 - val_accuracy: 0.8235\n",
            "Epoch 56/500\n",
            "1/3 [=========>....................] - ETA: 0s - loss: 0.1062 - accuracy: 0.9688\n",
            "Epoch 00056: val_loss did not improve from 0.69712\n",
            "3/3 [==============================] - 0s 10ms/step - loss: 0.0678 - accuracy: 0.9855 - val_loss: 0.8729 - val_accuracy: 0.8824\n",
            "Epoch 57/500\n",
            "1/3 [=========>....................] - ETA: 0s - loss: 0.0455 - accuracy: 1.0000\n",
            "Epoch 00057: val_loss did not improve from 0.69712\n",
            "3/3 [==============================] - 0s 9ms/step - loss: 0.0643 - accuracy: 1.0000 - val_loss: 0.8656 - val_accuracy: 0.8824\n",
            "Epoch 58/500\n",
            "1/3 [=========>....................] - ETA: 0s - loss: 0.0375 - accuracy: 1.0000\n",
            "Epoch 00058: val_loss did not improve from 0.69712\n",
            "3/3 [==============================] - 0s 11ms/step - loss: 0.0614 - accuracy: 1.0000 - val_loss: 0.8598 - val_accuracy: 0.8824\n",
            "Epoch 59/500\n",
            "1/3 [=========>....................] - ETA: 0s - loss: 0.0903 - accuracy: 1.0000\n",
            "Epoch 00059: val_loss did not improve from 0.69712\n",
            "3/3 [==============================] - 0s 10ms/step - loss: 0.0592 - accuracy: 1.0000 - val_loss: 0.8555 - val_accuracy: 0.8824\n",
            "Epoch 60/500\n",
            "1/3 [=========>....................] - ETA: 0s - loss: 0.0881 - accuracy: 1.0000\n",
            "Epoch 00060: val_loss did not improve from 0.69712\n",
            "3/3 [==============================] - 0s 9ms/step - loss: 0.0568 - accuracy: 1.0000 - val_loss: 0.8516 - val_accuracy: 0.8824\n",
            "Epoch 61/500\n",
            "1/3 [=========>....................] - ETA: 0s - loss: 0.0293 - accuracy: 1.0000\n",
            "Epoch 00061: val_loss did not improve from 0.69712\n",
            "3/3 [==============================] - 0s 9ms/step - loss: 0.0544 - accuracy: 1.0000 - val_loss: 0.8504 - val_accuracy: 0.8824\n",
            "Epoch 62/500\n",
            "1/3 [=========>....................] - ETA: 0s - loss: 0.0302 - accuracy: 1.0000\n",
            "Epoch 00062: val_loss did not improve from 0.69712\n",
            "3/3 [==============================] - 0s 10ms/step - loss: 0.0523 - accuracy: 1.0000 - val_loss: 0.8480 - val_accuracy: 0.8824\n",
            "Epoch 63/500\n",
            "1/3 [=========>....................] - ETA: 0s - loss: 0.0339 - accuracy: 1.0000\n",
            "Epoch 00063: val_loss did not improve from 0.69712\n",
            "3/3 [==============================] - 0s 10ms/step - loss: 0.0502 - accuracy: 1.0000 - val_loss: 0.8431 - val_accuracy: 0.8824\n",
            "Epoch 64/500\n",
            "1/3 [=========>....................] - ETA: 0s - loss: 0.0278 - accuracy: 1.0000\n",
            "Epoch 00064: val_loss did not improve from 0.69712\n",
            "3/3 [==============================] - 0s 10ms/step - loss: 0.0480 - accuracy: 1.0000 - val_loss: 0.8378 - val_accuracy: 0.8824\n",
            "Epoch 65/500\n",
            "1/3 [=========>....................] - ETA: 0s - loss: 0.0270 - accuracy: 1.0000\n",
            "Epoch 00065: val_loss did not improve from 0.69712\n",
            "3/3 [==============================] - 0s 10ms/step - loss: 0.0461 - accuracy: 1.0000 - val_loss: 0.8324 - val_accuracy: 0.8824\n",
            "Epoch 66/500\n",
            "1/3 [=========>....................] - ETA: 0s - loss: 0.0244 - accuracy: 1.0000\n",
            "Epoch 00066: val_loss did not improve from 0.69712\n",
            "3/3 [==============================] - 0s 10ms/step - loss: 0.0443 - accuracy: 1.0000 - val_loss: 0.8282 - val_accuracy: 0.8824\n",
            "Epoch 67/500\n",
            "1/3 [=========>....................] - ETA: 0s - loss: 0.0263 - accuracy: 1.0000\n",
            "Epoch 00067: val_loss did not improve from 0.69712\n",
            "3/3 [==============================] - 0s 9ms/step - loss: 0.0427 - accuracy: 1.0000 - val_loss: 0.8248 - val_accuracy: 0.8824\n",
            "Epoch 68/500\n",
            "1/3 [=========>....................] - ETA: 0s - loss: 0.0216 - accuracy: 1.0000\n",
            "Epoch 00068: val_loss did not improve from 0.69712\n",
            "3/3 [==============================] - 0s 9ms/step - loss: 0.0410 - accuracy: 1.0000 - val_loss: 0.8217 - val_accuracy: 0.8824\n",
            "Epoch 69/500\n",
            "1/3 [=========>....................] - ETA: 0s - loss: 0.0201 - accuracy: 1.0000\n",
            "Epoch 00069: val_loss did not improve from 0.69712\n",
            "3/3 [==============================] - 0s 10ms/step - loss: 0.0392 - accuracy: 1.0000 - val_loss: 0.8172 - val_accuracy: 0.8824\n",
            "Epoch 70/500\n",
            "1/3 [=========>....................] - ETA: 0s - loss: 0.0554 - accuracy: 1.0000\n",
            "Epoch 00070: val_loss did not improve from 0.69712\n",
            "3/3 [==============================] - 0s 10ms/step - loss: 0.0378 - accuracy: 1.0000 - val_loss: 0.8130 - val_accuracy: 0.8824\n",
            "Epoch 71/500\n",
            "1/3 [=========>....................] - ETA: 0s - loss: 0.0229 - accuracy: 1.0000\n",
            "Epoch 00071: val_loss did not improve from 0.69712\n",
            "3/3 [==============================] - 0s 10ms/step - loss: 0.0359 - accuracy: 1.0000 - val_loss: 0.8102 - val_accuracy: 0.8824\n",
            "Epoch 72/500\n",
            "1/3 [=========>....................] - ETA: 0s - loss: 0.0218 - accuracy: 1.0000\n",
            "Epoch 00072: val_loss did not improve from 0.69712\n",
            "3/3 [==============================] - 0s 10ms/step - loss: 0.0345 - accuracy: 1.0000 - val_loss: 0.8075 - val_accuracy: 0.8824\n",
            "Epoch 73/500\n",
            "1/3 [=========>....................] - ETA: 0s - loss: 0.0501 - accuracy: 1.0000\n",
            "Epoch 00073: val_loss did not improve from 0.69712\n",
            "3/3 [==============================] - 0s 10ms/step - loss: 0.0334 - accuracy: 1.0000 - val_loss: 0.8055 - val_accuracy: 0.8824\n",
            "Epoch 74/500\n",
            "1/3 [=========>....................] - ETA: 0s - loss: 0.0480 - accuracy: 1.0000\n",
            "Epoch 00074: val_loss did not improve from 0.69712\n",
            "3/3 [==============================] - 0s 10ms/step - loss: 0.0321 - accuracy: 1.0000 - val_loss: 0.8042 - val_accuracy: 0.8824\n",
            "Epoch 75/500\n",
            "1/3 [=========>....................] - ETA: 0s - loss: 0.0448 - accuracy: 1.0000\n",
            "Epoch 00075: val_loss did not improve from 0.69712\n",
            "3/3 [==============================] - 0s 10ms/step - loss: 0.0310 - accuracy: 1.0000 - val_loss: 0.8025 - val_accuracy: 0.8824\n",
            "Epoch 76/500\n",
            "1/3 [=========>....................] - ETA: 0s - loss: 0.0407 - accuracy: 1.0000\n",
            "Epoch 00076: val_loss did not improve from 0.69712\n",
            "3/3 [==============================] - 0s 11ms/step - loss: 0.0300 - accuracy: 1.0000 - val_loss: 0.8005 - val_accuracy: 0.8824\n",
            "Epoch 77/500\n",
            "1/3 [=========>....................] - ETA: 0s - loss: 0.0175 - accuracy: 1.0000\n",
            "Epoch 00077: val_loss did not improve from 0.69712\n",
            "3/3 [==============================] - 0s 10ms/step - loss: 0.0289 - accuracy: 1.0000 - val_loss: 0.7988 - val_accuracy: 0.8824\n",
            "Epoch 78/500\n",
            "1/3 [=========>....................] - ETA: 0s - loss: 0.0395 - accuracy: 1.0000\n",
            "Epoch 00078: val_loss did not improve from 0.69712\n",
            "3/3 [==============================] - 0s 10ms/step - loss: 0.0281 - accuracy: 1.0000 - val_loss: 0.7959 - val_accuracy: 0.8824\n",
            "Epoch 79/500\n",
            "1/3 [=========>....................] - ETA: 0s - loss: 0.0166 - accuracy: 1.0000\n",
            "Epoch 00079: val_loss did not improve from 0.69712\n",
            "3/3 [==============================] - 0s 10ms/step - loss: 0.0270 - accuracy: 1.0000 - val_loss: 0.7930 - val_accuracy: 0.8824\n",
            "Epoch 80/500\n",
            "1/3 [=========>....................] - ETA: 0s - loss: 0.0391 - accuracy: 1.0000\n",
            "Epoch 00080: val_loss did not improve from 0.69712\n",
            "3/3 [==============================] - 0s 10ms/step - loss: 0.0263 - accuracy: 1.0000 - val_loss: 0.7912 - val_accuracy: 0.8824\n",
            "Epoch 81/500\n",
            "1/3 [=========>....................] - ETA: 0s - loss: 0.0371 - accuracy: 1.0000\n",
            "Epoch 00081: val_loss did not improve from 0.69712\n",
            "3/3 [==============================] - 0s 10ms/step - loss: 0.0254 - accuracy: 1.0000 - val_loss: 0.7895 - val_accuracy: 0.8824\n",
            "Epoch 82/500\n",
            "1/3 [=========>....................] - ETA: 0s - loss: 0.0338 - accuracy: 1.0000\n",
            "Epoch 00082: val_loss did not improve from 0.69712\n",
            "3/3 [==============================] - 0s 12ms/step - loss: 0.0246 - accuracy: 1.0000 - val_loss: 0.7894 - val_accuracy: 0.8824\n",
            "Epoch 83/500\n",
            "1/3 [=========>....................] - ETA: 0s - loss: 0.0365 - accuracy: 1.0000\n",
            "Epoch 00083: val_loss did not improve from 0.69712\n",
            "3/3 [==============================] - 0s 12ms/step - loss: 0.0239 - accuracy: 1.0000 - val_loss: 0.7901 - val_accuracy: 0.8824\n",
            "Epoch 84/500\n",
            "1/3 [=========>....................] - ETA: 0s - loss: 0.0139 - accuracy: 1.0000\n",
            "Epoch 00084: val_loss did not improve from 0.69712\n",
            "3/3 [==============================] - 0s 12ms/step - loss: 0.0231 - accuracy: 1.0000 - val_loss: 0.7905 - val_accuracy: 0.8824\n",
            "Epoch 85/500\n",
            "1/3 [=========>....................] - ETA: 0s - loss: 0.0160 - accuracy: 1.0000\n",
            "Epoch 00085: val_loss did not improve from 0.69712\n",
            "\n",
            "Epoch 00085: ReduceLROnPlateau reducing learning rate to 0.00020000000949949026.\n",
            "3/3 [==============================] - 0s 11ms/step - loss: 0.0224 - accuracy: 1.0000 - val_loss: 0.7907 - val_accuracy: 0.8824\n",
            "Epoch 86/500\n",
            "1/3 [=========>....................] - ETA: 0s - loss: 0.0118 - accuracy: 1.0000\n",
            "Epoch 00086: val_loss did not improve from 0.69712\n",
            "3/3 [==============================] - 0s 10ms/step - loss: 0.0217 - accuracy: 1.0000 - val_loss: 0.7907 - val_accuracy: 0.8824\n",
            "Epoch 87/500\n",
            "1/3 [=========>....................] - ETA: 0s - loss: 0.0318 - accuracy: 1.0000\n",
            "Epoch 00087: val_loss did not improve from 0.69712\n",
            "3/3 [==============================] - 0s 11ms/step - loss: 0.0216 - accuracy: 1.0000 - val_loss: 0.7906 - val_accuracy: 0.8824\n",
            "Epoch 88/500\n",
            "1/3 [=========>....................] - ETA: 0s - loss: 0.0289 - accuracy: 1.0000\n",
            "Epoch 00088: val_loss did not improve from 0.69712\n",
            "\n",
            "Epoch 00088: ReduceLROnPlateau reducing learning rate to 4.0000001899898055e-05.\n",
            "3/3 [==============================] - 0s 11ms/step - loss: 0.0214 - accuracy: 1.0000 - val_loss: 0.7906 - val_accuracy: 0.8824\n",
            "Epoch 89/500\n",
            "1/3 [=========>....................] - ETA: 0s - loss: 0.0130 - accuracy: 1.0000\n",
            "Epoch 00089: val_loss did not improve from 0.69712\n",
            "3/3 [==============================] - 0s 10ms/step - loss: 0.0212 - accuracy: 1.0000 - val_loss: 0.7906 - val_accuracy: 0.8824\n",
            "Epoch 90/500\n",
            "1/3 [=========>....................] - ETA: 0s - loss: 0.0285 - accuracy: 1.0000\n",
            "Epoch 00090: val_loss did not improve from 0.69712\n",
            "3/3 [==============================] - 0s 11ms/step - loss: 0.0212 - accuracy: 1.0000 - val_loss: 0.7906 - val_accuracy: 0.8824\n",
            "Epoch 91/500\n",
            "1/3 [=========>....................] - ETA: 0s - loss: 0.0313 - accuracy: 1.0000\n",
            "Epoch 00091: val_loss did not improve from 0.69712\n",
            "\n",
            "Epoch 00091: ReduceLROnPlateau reducing learning rate to 8.000000525498762e-06.\n",
            "3/3 [==============================] - 0s 10ms/step - loss: 0.0212 - accuracy: 1.0000 - val_loss: 0.7906 - val_accuracy: 0.8824\n",
            "Epoch 92/500\n",
            "1/3 [=========>....................] - ETA: 0s - loss: 0.0298 - accuracy: 1.0000\n",
            "Epoch 00092: val_loss did not improve from 0.69712\n",
            "3/3 [==============================] - 0s 10ms/step - loss: 0.0211 - accuracy: 1.0000 - val_loss: 0.7906 - val_accuracy: 0.8824\n"
          ],
          "name": "stdout"
        }
      ]
    },
    {
      "cell_type": "code",
      "metadata": {
        "id": "djzCvMfW1bir",
        "outputId": "ad2183d2-8a58-4f1c-f9b8-66aebab5779b",
        "colab": {
          "base_uri": "https://localhost:8080/",
          "height": 34
        }
      },
      "source": [
        "[np.argmax(i) for i in model.predict(X_test)][:]\n"
      ],
      "execution_count": null,
      "outputs": [
        {
          "output_type": "execute_result",
          "data": {
            "text/plain": [
              "[0, 1, 4, 3, 4, 5, 7, 8, 9, 12, 11, 12, 13, 14, 15, 16, 6]"
            ]
          },
          "metadata": {
            "tags": []
          },
          "execution_count": 188
        }
      ]
    },
    {
      "cell_type": "code",
      "metadata": {
        "id": "NBO6aAOl1coH",
        "outputId": "5b65669f-3274-42aa-8183-0779b46cb7e8",
        "colab": {
          "base_uri": "https://localhost:8080/",
          "height": 34
        }
      },
      "source": [
        "[np.argmax(i) for i in y_test][:]"
      ],
      "execution_count": null,
      "outputs": [
        {
          "output_type": "execute_result",
          "data": {
            "text/plain": [
              "[0, 1, 2, 3, 4, 5, 7, 8, 9, 10, 11, 12, 13, 14, 15, 16, 6]"
            ]
          },
          "metadata": {
            "tags": []
          },
          "execution_count": 189
        }
      ]
    },
    {
      "cell_type": "markdown",
      "metadata": {
        "id": "EwHeBtIUTP5l"
      },
      "source": [
        "USER TESTING"
      ]
    },
    {
      "cell_type": "code",
      "metadata": {
        "id": "9PjDLUB5Bk1i"
      },
      "source": [
        "def get_text():\n",
        "    x = input()\n",
        "    x=x.lower()\n",
        "    xx = x[:13]\n",
        "    if(xx ==\"start my test\"):\n",
        "      return 0\n",
        "    else:\n",
        "      input_text  = [x]\n",
        "      df_input = pd.DataFrame(input_text,columns=['user'])\n",
        "      df_input\n",
        "      return df_input"
      ],
      "execution_count": null,
      "outputs": []
    },
    {
      "cell_type": "code",
      "metadata": {
        "id": "G58RifJlQE5u"
      },
      "source": [
        "from tensorflow.keras.models import load_model\n",
        "model = load_model('botmodel.h5')\n",
        "tok = joblib.load('tokenizer_t.pkl')\n",
        "words_ = joblib.load('words.pkl')\n"
      ],
      "execution_count": null,
      "outputs": []
    },
    {
      "cell_type": "code",
      "metadata": {
        "id": "T1R3ZCuzU1sH"
      },
      "source": [
        "\n",
        "def tokenizer(x):\n",
        "    tokens = x.split()\n",
        "    rep = re.compile('[%s]' % re.escape(string.punctuation))\n",
        "    tokens = [rep.sub('', i) for i in tokens]\n",
        "    tokens = [i for i in tokens if i.isalpha()]\n",
        "    tokens = [lem.lemmatize(i.lower()) for i in tokens]\n",
        "    tokens = [i.lower() for i in tokens if len(i) > 1]\n",
        "    return tokens\n",
        "\n",
        "\n",
        "def no_stop_inp(tokenizer,df,c):\n",
        "    no_stop = []\n",
        "    x = df[c][0]\n",
        "    tokens = tokenizer(x)\n",
        "    no_stop.append(' '.join(tokens))\n",
        "    df[c] = no_stop\n",
        "    return df\n",
        "\n",
        "\n",
        "def inpenc(tok,df,c):\n",
        "    t = tok\n",
        "    x = x = [df[c][0]]\n",
        "    enc = t.texts_to_sequences(x)\n",
        "    padded = pad_sequences(enc, maxlen=16, padding='post')\n",
        "    return padded\n",
        "\n",
        "def predinp(model,x):\n",
        "    pred = np.argmax(model.predict(x))\n",
        "    return pred\n",
        "\n",
        "def botp(df3,pred):\n",
        "    l = df3.user[0].split()\n",
        "    if len([i for i in l if i in words_])==0 :\n",
        "        pred = 1\n",
        "    return pred\n",
        "\n",
        "def botop(df2,pred):\n",
        "    x2 = df2.groupby('labels').get_group(pred).shape[0]\n",
        "    idx1 = np.random.randint(0,x2)\n",
        "    op = list(df2.groupby('labels').get_group(pred).bot)\n",
        "    return op[idx1]\n",
        "  "
      ],
      "execution_count": null,
      "outputs": []
    },
    {
      "cell_type": "code",
      "metadata": {
        "id": "idqoE1K3Rbjj"
      },
      "source": [
        "def start_test():\n",
        "  print(\"starting test...\")"
      ],
      "execution_count": null,
      "outputs": []
    },
    {
      "cell_type": "code",
      "metadata": {
        "id": "cdpu1-KPU1xI",
        "outputId": "09dbb26b-d6fc-46a3-edb1-26b495109e54",
        "colab": {
          "base_uri": "https://localhost:8080/",
          "height": 67
        }
      },
      "source": [
        "\n",
        "df3 = get_text()\n",
        "if(df3==0):\n",
        "  ans = \"Sure, good luck!\"\n",
        "  start_test()\n",
        "else:\n",
        "  tok = joblib.load('tokenizer_t.pkl')\n",
        "  word = joblib.load('words.pkl')\n",
        "  df3 = no_stop_inp(tokenizer,df3,'user')\n",
        "  inp = inpenc(tok,df3,'user')\n",
        "  pred = predinp(model,inp)\n",
        "  pred = botp(df3,pred)\n",
        "  ans = botop(df2,pred)\n",
        "print(\"CounselBot : \", ans)"
      ],
      "execution_count": null,
      "outputs": [
        {
          "output_type": "stream",
          "text": [
            "START MY TEST!!!\n",
            "starting test...\n",
            "CounselBot :  Sure, good luck!\n"
          ],
          "name": "stdout"
        }
      ]
    },
    {
      "cell_type": "code",
      "metadata": {
        "id": "8cWoNmrEJV9O",
        "outputId": "3ae38a4a-95f3-4f05-c221-3aa926257baf",
        "colab": {
          "base_uri": "https://localhost:8080/",
          "height": 50
        }
      },
      "source": [
        "!ls"
      ],
      "execution_count": null,
      "outputs": [
        {
          "output_type": "stream",
          "text": [
            "bot.csv      questions.json  tokenizer_t.pkl  words.pkl\n",
            "botmodel.h5  sample_data     tokens.pkl\n"
          ],
          "name": "stdout"
        }
      ]
    }
  ]
}